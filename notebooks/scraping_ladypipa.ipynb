{
 "cells": [
  {
   "cell_type": "markdown",
   "metadata": {},
   "source": [
    "# Scraping de Lapypipa"
   ]
  },
  {
   "cell_type": "markdown",
   "metadata": {},
   "source": [
    "Nuestro objetivo consiste en escrapear la pagina de vestidos de Ladypipa para ello usaremos tanto Selenium como Beautiful Soup."
   ]
  },
  {
   "cell_type": "code",
   "execution_count": 2,
   "metadata": {},
   "outputs": [],
   "source": [
    "import sys\n",
    "import os\n",
    "import pandas as pd\n",
    "import json\n",
    "\n",
    "sys.path.append(os.path.abspath('../'))\n",
    "from src import funciones_scraping as fs"
   ]
  },
  {
   "cell_type": "markdown",
   "metadata": {},
   "source": [
    "Con Selenium accedemos a la página principal de vestidos y sacamos todos los links a los que posterioirmente vamos a acceder. Estos links los almacenamos dentro de la carpeta datos para tenerlos guardados y solo tener que ejecutar una vez la función."
   ]
  },
  {
   "cell_type": "code",
   "execution_count": 6,
   "metadata": {},
   "outputs": [],
   "source": [
    "links_ladypipa = fs.obtencion_links_ladypipa()\n",
    "\n",
    "with open(\"../datos/scraping/links_ladypipa.json\", \"w\") as archivo_json:\n",
    "    json.dump(links_ladypipa, archivo_json)"
   ]
  },
  {
   "cell_type": "markdown",
   "metadata": {},
   "source": [
    "A continuación mediande BeautifulSoup iremos recabando de cada vestido la información necesaria para crear el dataframe."
   ]
  },
  {
   "cell_type": "code",
   "execution_count": 7,
   "metadata": {},
   "outputs": [],
   "source": [
    "with open(\"../datos/scraping/links_ladypipa.json\", \"r\") as archivo_json:\n",
    "    links_ladypipa = json.load(archivo_json)"
   ]
  },
  {
   "cell_type": "code",
   "execution_count": 25,
   "metadata": {},
   "outputs": [],
   "source": [
    "from bs4 import BeautifulSoup # type: ignore\n",
    "import requests # type: ignore\n",
    "import re"
   ]
  },
  {
   "cell_type": "code",
   "execution_count": null,
   "metadata": {},
   "outputs": [
    {
     "name": "stdout",
     "output_type": "stream",
     "text": [
      "\n",
      "Vestido Boheme \n",
      "\n"
     ]
    },
    {
     "data": {
      "text/plain": [
       "['XXS', 'XS', 'S', 'M', 'L', '4XL']"
      ]
     },
     "execution_count": 69,
     "metadata": {},
     "output_type": "execute_result"
    }
   ],
   "source": [
    "dic_vestido = {\n",
    "        \"nombre\" : [],\n",
    "        \"marca\" : [],\n",
    "        \"precio\" : [],\n",
    "        \"talla\" : [],\n",
    "        \"categoria\" :[]\n",
    "        }\n",
    "\n",
    "url=links_ladypipa[0]\n",
    "res = requests.get(url)\n",
    "if res.status_code != 200:\n",
    "    print(url)\n",
    "\n",
    "sopa = BeautifulSoup(res.content, \"html.parser\")\n",
    "nombre = sopa.find(\"div\", {\"class\":\"product-info__title\"}).text\n",
    "marca = \"Ladypipa\"\n",
    "\n",
    "patron = r\"(\\d+(?:,\\d{1,2})?)\\s*€\"\n",
    "resultado = re.search(patron, sopa.find(\"sale-price\").text)\n",
    "precio = resultado.group(1)\n",
    "\n",
    "lista_tallas=[]\n",
    "contenedor_tallas = sopa.find(\"div\", {\"class\":\"form-control\"}).find(\"select\").find_all('option')\n",
    "for talla in contenedor_tallas:\n",
    "    if not talla.has_attr('disabled'):\n",
    "        lista_tallas.append(talla.text.split()[0])\n",
    "lista_tallas\n",
    "# desc = sopa.select(\"div.prose p\")[2].text\n",
    "# print(desc)"
   ]
  },
  {
   "cell_type": "code",
   "execution_count": null,
   "metadata": {},
   "outputs": [
    {
     "data": {
      "text/plain": [
       "['XXS', 'XS', 'S', 'M', 'L', 'XL']"
      ]
     },
     "execution_count": 61,
     "metadata": {},
     "output_type": "execute_result"
    }
   ],
   "source": []
  },
  {
   "cell_type": "code",
   "execution_count": 50,
   "metadata": {},
   "outputs": [
    {
     "data": {
      "text/plain": [
       "'Vestido midi con mangas abullonadas, drapeado en la parte delantera y falda recta. Detalle de lágrima en la espalda.\\nCONSEJO PARA ELEGIR TALLA: Escoge la misma talla que suelas usar normalmente en marcas como Zara.\\n\\xa0'"
      ]
     },
     "execution_count": 50,
     "metadata": {},
     "output_type": "execute_result"
    }
   ],
   "source": [
    "desc[2].text"
   ]
  },
  {
   "cell_type": "code",
   "execution_count": null,
   "metadata": {},
   "outputs": [],
   "source": [
    "<span data-sheets-userformat=\"{&quot;2&quot;:14977,&quot;3&quot;:{&quot;1&quot;:0},&quot;10&quot;:1,&quot;12&quot;:0,&quot;14&quot;:{&quot;1&quot;:2,&quot;2&quot;:0},&quot;15&quot;:&quot;Arial&quot;,&quot;16&quot;:10}\" data-sheets-value=\"{&quot;1&quot;:2,&quot;2&quot;:&quot;Vestido midi asimétrico con manga abullonada, drapeado en la parte delantera y falda recta.&quot;}\" data-sheets-root=\"1\">Vestido midi con mangas abullonadas, drapeado en la parte delantera y falda recta. Detalle de lágrima en la espalda.</span>"
   ]
  }
 ],
 "metadata": {
  "kernelspec": {
   "display_name": "Python 3",
   "language": "python",
   "name": "python3"
  },
  "language_info": {
   "codemirror_mode": {
    "name": "ipython",
    "version": 3
   },
   "file_extension": ".py",
   "mimetype": "text/x-python",
   "name": "python",
   "nbconvert_exporter": "python",
   "pygments_lexer": "ipython3",
   "version": "3.11.9"
  }
 },
 "nbformat": 4,
 "nbformat_minor": 2
}
