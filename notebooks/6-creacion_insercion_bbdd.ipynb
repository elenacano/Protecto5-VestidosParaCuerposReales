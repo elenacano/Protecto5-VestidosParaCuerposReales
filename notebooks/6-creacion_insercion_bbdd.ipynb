{
 "cells": [
  {
   "cell_type": "markdown",
   "metadata": {},
   "source": [
    "# Creación de la base de datos e inserción."
   ]
  },
  {
   "cell_type": "markdown",
   "metadata": {},
   "source": [
    "Nuestra base de datos consta de tres tablas principales: Vestidos, Marcas y Categorías. También añadiremos una cuarta tabla que será VestidosForever21 ya que al tener el stock podremos realizar otro tipo de análisis más minucioso que para el resto de tiendas. A continuación, crearemos la base de datos y las tablas:"
   ]
  },
  {
   "cell_type": "code",
   "execution_count": 36,
   "metadata": {},
   "outputs": [],
   "source": [
    "import pandas as pd\n",
    "import sys\n",
    "import os\n",
    "\n",
    "sys.path.append(os.path.abspath('../'))\n",
    "from src import funciones_bbdd as fbd\n",
    "from src import queries as q"
   ]
  },
  {
   "cell_type": "code",
   "execution_count": 37,
   "metadata": {},
   "outputs": [],
   "source": [
    "nombre_bbdd = \"cuerpos_reales\""
   ]
  },
  {
   "cell_type": "code",
   "execution_count": 3,
   "metadata": {},
   "outputs": [
    {
     "name": "stdout",
     "output_type": "stream",
     "text": [
      "La base de datos ya existe\n"
     ]
    }
   ],
   "source": [
    "# Creamos la base de datos\n",
    "fbd.crear_db(nombre_bbdd,  \"admin\", \"postgres\")"
   ]
  },
  {
   "cell_type": "code",
   "execution_count": 38,
   "metadata": {},
   "outputs": [],
   "source": [
    "# Establecemos la conexión\n",
    "conexion = fbd.establecer_conn(nombre_bbdd, \"admin\", \"postgres\")"
   ]
  },
  {
   "cell_type": "code",
   "execution_count": 5,
   "metadata": {},
   "outputs": [],
   "source": [
    "# Creamos las tablas\n",
    "conexion.cursor().execute(q.querie_creacion_marcas)\n",
    "conexion.cursor().execute(q.querie_creacion_categorias)\n",
    "conexion.cursor().execute(q.querie_creacion_vestidos)\n",
    "conexion.cursor().execute(q.querie_creacion_vestidos_forever21)"
   ]
  },
  {
   "cell_type": "code",
   "execution_count": 6,
   "metadata": {},
   "outputs": [],
   "source": [
    "# Insertamos datos\n",
    "fbd.dbeaver_commitmany(conexion, q.query_carga_marcas, \"df_marcas\")\n",
    "fbd.dbeaver_commitmany(conexion, q.query_carga_categorias, \"df_categorias\")"
   ]
  },
  {
   "cell_type": "markdown",
   "metadata": {},
   "source": [
    "Para insertar la tabla de vestidos necesitamos sustituir la marca y categoría por su id:"
   ]
  },
  {
   "cell_type": "code",
   "execution_count": 39,
   "metadata": {},
   "outputs": [],
   "source": [
    "# Creamos los diccionarios para la sustitución de los valores\n",
    "cursor = conexion.cursor()\n",
    "cursor.execute(\"\"\" select * from marcas\"\"\")\n",
    "data = cursor.fetchall()\n",
    "marca_dict = {row[1]: row[0] for row in data}  \n",
    "\n",
    "cursor = conexion.cursor()\n",
    "cursor.execute(\"\"\" select * from categorias\"\"\")\n",
    "data = cursor.fetchall()\n",
    "categoria_dict = {row[1]: row[0] for row in data}  "
   ]
  },
  {
   "cell_type": "code",
   "execution_count": 40,
   "metadata": {},
   "outputs": [],
   "source": [
    "# Sustituimos los valores y guardamos el dataframe\n",
    "df = pd.read_csv(\"../datos/dataframes/df_final_vestidos.csv\", index_col=0)\n",
    "df[\"marca\"] = df[\"marca\"].map(marca_dict)\n",
    "df[\"categoria\"] = df[\"categoria\"].map(categoria_dict)\n",
    "df.to_csv(\"../datos/dataframes/df_con_id_vestidos.csv\")"
   ]
  },
  {
   "cell_type": "code",
   "execution_count": 41,
   "metadata": {},
   "outputs": [],
   "source": [
    "fbd.dbeaver_commitmany(conexion, q.querie_carga_vestidos, \"df_con_id_vestidos\")"
   ]
  },
  {
   "cell_type": "code",
   "execution_count": null,
   "metadata": {},
   "outputs": [],
   "source": []
  }
 ],
 "metadata": {
  "kernelspec": {
   "display_name": "Python 3",
   "language": "python",
   "name": "python3"
  },
  "language_info": {
   "codemirror_mode": {
    "name": "ipython",
    "version": 3
   },
   "file_extension": ".py",
   "mimetype": "text/x-python",
   "name": "python",
   "nbconvert_exporter": "python",
   "pygments_lexer": "ipython3",
   "version": "3.11.9"
  }
 },
 "nbformat": 4,
 "nbformat_minor": 2
}
