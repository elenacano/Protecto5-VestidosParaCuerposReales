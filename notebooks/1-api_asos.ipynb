{
 "cells": [
  {
   "cell_type": "markdown",
   "metadata": {},
   "source": [
    "# API Asos"
   ]
  },
  {
   "cell_type": "code",
   "execution_count": 1,
   "metadata": {},
   "outputs": [],
   "source": [
    "import pandas as pd\n",
    "import json\n",
    "import os\n",
    "import sys\n",
    "import dotenv\n",
    "\n",
    "dotenv.load_dotenv()\n",
    "\n",
    "sys.path.append(os.path.abspath('../'))\n",
    "from src import funciones_api as fa\n",
    "from src import dic"
   ]
  },
  {
   "cell_type": "markdown",
   "metadata": {},
   "source": [
    "En primer lugar hacemos la llamada a la api para cada una de las marcas obtener todos sus productos:"
   ]
  },
  {
   "cell_type": "code",
   "execution_count": 2,
   "metadata": {},
   "outputs": [],
   "source": [
    "lista_id = [8264, 4715, 28466, 20758, 18936, 28624]\n",
    "lista_marcas = [\"Mango\", \"VeroModa\", \"NAKD\", \"LoveTriangle\", \"JadedRose\", \"Ghospell\"]"
   ]
  },
  {
   "cell_type": "code",
   "execution_count": null,
   "metadata": {},
   "outputs": [],
   "source": [
    "fa.busqueda_vestido_marca(lista_id, lista_marcas)"
   ]
  },
  {
   "cell_type": "markdown",
   "metadata": {},
   "source": [
    "Creamos un diccionario para cada marca donde almacenamos como valor una lista de dos elementos con la lista de ids y el diccionario de precios."
   ]
  },
  {
   "cell_type": "code",
   "execution_count": 3,
   "metadata": {},
   "outputs": [],
   "source": [
    "dic_info={}\n",
    "\n",
    "for marca in lista_marcas:    \n",
    "    lista_id_vestido = []\n",
    "    dic_precio = {}\n",
    "\n",
    "    with open(f\"../datos/api_asos/{marca}/vestidos_{marca}.json\", 'r') as file:\n",
    "        response = json.load(file)\n",
    "\n",
    "    for i in range(len(response[\"data\"][\"products\"])):\n",
    "        if \"dress\" in response[\"data\"][\"products\"][i][\"name\"]:\n",
    "            id = response[\"data\"][\"products\"][i][\"id\"]\n",
    "            lista_id_vestido.append(id)\n",
    "            dic_precio[id]=response[\"data\"][\"products\"][i][\"price\"][\"current\"][\"value\"]\n",
    "\n",
    "    dic_info[marca]=[lista_id_vestido, dic_precio]"
   ]
  },
  {
   "cell_type": "markdown",
   "metadata": {},
   "source": [
    "Para cada vestido, gacemos una llamada personalizada a la API para obtener más información."
   ]
  },
  {
   "cell_type": "code",
   "execution_count": 9,
   "metadata": {},
   "outputs": [],
   "source": [
    "fa.detalles_vestido(lista_marcas, dic_info)"
   ]
  },
  {
   "cell_type": "markdown",
   "metadata": {},
   "source": [
    "Creamos un diccionario con todo los productos que hemos recolectado dentro de ASOS de las distintas marcas y creamos y almacenamos un dataframe con todos ellos."
   ]
  },
  {
   "cell_type": "code",
   "execution_count": 14,
   "metadata": {},
   "outputs": [
    {
     "name": "stdout",
     "output_type": "stream",
     "text": [
      "Mango\n",
      "VeroModa\n",
      "NAKD\n",
      "LoveTriangle\n",
      "JadedRose\n",
      "Ghospell\n"
     ]
    }
   ],
   "source": [
    "dic_vestidos = fa.creacion_diccionario_asos(dic_info, lista_marcas)\n",
    "df = pd.DataFrame(dic_vestidos)"
   ]
  },
  {
   "cell_type": "code",
   "execution_count": 15,
   "metadata": {},
   "outputs": [],
   "source": [
    "# añadimos la columna de categoria del vestido\n",
    "df[\"nombre\"] = df[\"nombre\"].str.lower()\n",
    "df[\"color\"] = df[\"color\"].str.lower()\n",
    "df[\"categoria\"] = df[\"nombre\"].str.extract('(largo|midi|corto|maxi|mini)', expand=True)\n",
    "\n",
    "# Como todos los valores de disponible son True, eliminamos la columna\n",
    "df.drop(columns=\"disponible\", inplace=True)\n",
    "\n",
    "# Estandarizamos las tallas\n",
    "df['talla'] = df['talla'].replace(dic.mapo_talla)"
   ]
  },
  {
   "cell_type": "code",
   "execution_count": 16,
   "metadata": {},
   "outputs": [
    {
     "data": {
      "text/html": [
       "<div>\n",
       "<style scoped>\n",
       "    .dataframe tbody tr th:only-of-type {\n",
       "        vertical-align: middle;\n",
       "    }\n",
       "\n",
       "    .dataframe tbody tr th {\n",
       "        vertical-align: top;\n",
       "    }\n",
       "\n",
       "    .dataframe thead th {\n",
       "        text-align: right;\n",
       "    }\n",
       "</style>\n",
       "<table border=\"1\" class=\"dataframe\">\n",
       "  <thead>\n",
       "    <tr style=\"text-align: right;\">\n",
       "      <th></th>\n",
       "      <th>nombre</th>\n",
       "      <th>marca</th>\n",
       "      <th>precio</th>\n",
       "      <th>color</th>\n",
       "      <th>talla</th>\n",
       "      <th>categoria</th>\n",
       "    </tr>\n",
       "  </thead>\n",
       "  <tbody>\n",
       "    <tr>\n",
       "      <th>0</th>\n",
       "      <td>vestido midi plateado con cuello halter de len...</td>\n",
       "      <td>Mango</td>\n",
       "      <td>133.00</td>\n",
       "      <td>silver</td>\n",
       "      <td>S</td>\n",
       "      <td>midi</td>\n",
       "    </tr>\n",
       "    <tr>\n",
       "      <th>1</th>\n",
       "      <td>vestido midi plateado con cuello halter de len...</td>\n",
       "      <td>Mango</td>\n",
       "      <td>133.00</td>\n",
       "      <td>silver</td>\n",
       "      <td>M</td>\n",
       "      <td>midi</td>\n",
       "    </tr>\n",
       "    <tr>\n",
       "      <th>2</th>\n",
       "      <td>vestido midi plateado con cuello halter de len...</td>\n",
       "      <td>Mango</td>\n",
       "      <td>133.00</td>\n",
       "      <td>silver</td>\n",
       "      <td>L</td>\n",
       "      <td>midi</td>\n",
       "    </tr>\n",
       "    <tr>\n",
       "      <th>3</th>\n",
       "      <td>vestido midi negro con estampado floral y aber...</td>\n",
       "      <td>Mango</td>\n",
       "      <td>129.99</td>\n",
       "      <td>black</td>\n",
       "      <td>XS</td>\n",
       "      <td>midi</td>\n",
       "    </tr>\n",
       "    <tr>\n",
       "      <th>4</th>\n",
       "      <td>vestido midi negro con estampado floral y aber...</td>\n",
       "      <td>Mango</td>\n",
       "      <td>129.99</td>\n",
       "      <td>black</td>\n",
       "      <td>S</td>\n",
       "      <td>midi</td>\n",
       "    </tr>\n",
       "    <tr>\n",
       "      <th>...</th>\n",
       "      <td>...</td>\n",
       "      <td>...</td>\n",
       "      <td>...</td>\n",
       "      <td>...</td>\n",
       "      <td>...</td>\n",
       "      <td>...</td>\n",
       "    </tr>\n",
       "    <tr>\n",
       "      <th>896</th>\n",
       "      <td>vestido corto negro con flecos de ghospell</td>\n",
       "      <td>Ghospell</td>\n",
       "      <td>127.00</td>\n",
       "      <td>black</td>\n",
       "      <td>XS</td>\n",
       "      <td>corto</td>\n",
       "    </tr>\n",
       "    <tr>\n",
       "      <th>897</th>\n",
       "      <td>vestido corto negro con flecos de ghospell</td>\n",
       "      <td>Ghospell</td>\n",
       "      <td>127.00</td>\n",
       "      <td>black</td>\n",
       "      <td>S</td>\n",
       "      <td>corto</td>\n",
       "    </tr>\n",
       "    <tr>\n",
       "      <th>898</th>\n",
       "      <td>vestido corto negro con flecos de ghospell</td>\n",
       "      <td>Ghospell</td>\n",
       "      <td>127.00</td>\n",
       "      <td>black</td>\n",
       "      <td>M</td>\n",
       "      <td>corto</td>\n",
       "    </tr>\n",
       "    <tr>\n",
       "      <th>899</th>\n",
       "      <td>vestido corto negro con flecos de ghospell</td>\n",
       "      <td>Ghospell</td>\n",
       "      <td>127.00</td>\n",
       "      <td>black</td>\n",
       "      <td>M</td>\n",
       "      <td>corto</td>\n",
       "    </tr>\n",
       "    <tr>\n",
       "      <th>900</th>\n",
       "      <td>vestido corto negro con flecos de ghospell</td>\n",
       "      <td>Ghospell</td>\n",
       "      <td>127.00</td>\n",
       "      <td>black</td>\n",
       "      <td>L</td>\n",
       "      <td>corto</td>\n",
       "    </tr>\n",
       "  </tbody>\n",
       "</table>\n",
       "<p>901 rows × 6 columns</p>\n",
       "</div>"
      ],
      "text/plain": [
       "                                                nombre     marca  precio  \\\n",
       "0    vestido midi plateado con cuello halter de len...     Mango  133.00   \n",
       "1    vestido midi plateado con cuello halter de len...     Mango  133.00   \n",
       "2    vestido midi plateado con cuello halter de len...     Mango  133.00   \n",
       "3    vestido midi negro con estampado floral y aber...     Mango  129.99   \n",
       "4    vestido midi negro con estampado floral y aber...     Mango  129.99   \n",
       "..                                                 ...       ...     ...   \n",
       "896         vestido corto negro con flecos de ghospell  Ghospell  127.00   \n",
       "897         vestido corto negro con flecos de ghospell  Ghospell  127.00   \n",
       "898         vestido corto negro con flecos de ghospell  Ghospell  127.00   \n",
       "899         vestido corto negro con flecos de ghospell  Ghospell  127.00   \n",
       "900         vestido corto negro con flecos de ghospell  Ghospell  127.00   \n",
       "\n",
       "      color talla categoria  \n",
       "0    silver     S      midi  \n",
       "1    silver     M      midi  \n",
       "2    silver     L      midi  \n",
       "3     black    XS      midi  \n",
       "4     black     S      midi  \n",
       "..      ...   ...       ...  \n",
       "896   black    XS     corto  \n",
       "897   black     S     corto  \n",
       "898   black     M     corto  \n",
       "899   black     M     corto  \n",
       "900   black     L     corto  \n",
       "\n",
       "[901 rows x 6 columns]"
      ]
     },
     "execution_count": 16,
     "metadata": {},
     "output_type": "execute_result"
    }
   ],
   "source": [
    "df"
   ]
  },
  {
   "cell_type": "code",
   "execution_count": 17,
   "metadata": {},
   "outputs": [],
   "source": [
    "df.to_csv(f\"../datos/api_asos/df_asos.csv\")"
   ]
  },
  {
   "cell_type": "code",
   "execution_count": 18,
   "metadata": {},
   "outputs": [
    {
     "data": {
      "text/html": [
       "<div>\n",
       "<style scoped>\n",
       "    .dataframe tbody tr th:only-of-type {\n",
       "        vertical-align: middle;\n",
       "    }\n",
       "\n",
       "    .dataframe tbody tr th {\n",
       "        vertical-align: top;\n",
       "    }\n",
       "\n",
       "    .dataframe thead th {\n",
       "        text-align: right;\n",
       "    }\n",
       "</style>\n",
       "<table border=\"1\" class=\"dataframe\">\n",
       "  <thead>\n",
       "    <tr style=\"text-align: right;\">\n",
       "      <th></th>\n",
       "      <th>nombre</th>\n",
       "      <th>marca</th>\n",
       "      <th>precio</th>\n",
       "      <th>color</th>\n",
       "      <th>talla</th>\n",
       "      <th>categoria</th>\n",
       "    </tr>\n",
       "  </thead>\n",
       "  <tbody>\n",
       "    <tr>\n",
       "      <th>581</th>\n",
       "      <td>vestido semilargo marrón con estampado de luna...</td>\n",
       "      <td>LoveTriangle</td>\n",
       "      <td>104.0</td>\n",
       "      <td>brown multi</td>\n",
       "      <td>XXS</td>\n",
       "      <td>largo</td>\n",
       "    </tr>\n",
       "    <tr>\n",
       "      <th>566</th>\n",
       "      <td>vestido lencero semilargo negro de corte al bi...</td>\n",
       "      <td>LoveTriangle</td>\n",
       "      <td>58.5</td>\n",
       "      <td>black</td>\n",
       "      <td>S</td>\n",
       "      <td>largo</td>\n",
       "    </tr>\n",
       "    <tr>\n",
       "      <th>561</th>\n",
       "      <td>vestido corto rojo guinda con detalle floral y...</td>\n",
       "      <td>LoveTriangle</td>\n",
       "      <td>67.5</td>\n",
       "      <td>cherry red</td>\n",
       "      <td>M</td>\n",
       "      <td>corto</td>\n",
       "    </tr>\n",
       "    <tr>\n",
       "      <th>320</th>\n",
       "      <td>vestido largo color piedra de manga larga con ...</td>\n",
       "      <td>VeroModa</td>\n",
       "      <td>69.0</td>\n",
       "      <td>stone</td>\n",
       "      <td>XL</td>\n",
       "      <td>largo</td>\n",
       "    </tr>\n",
       "    <tr>\n",
       "      <th>327</th>\n",
       "      <td>vestido corto negro plisado con cuello alto de...</td>\n",
       "      <td>VeroModa</td>\n",
       "      <td>63.0</td>\n",
       "      <td>black</td>\n",
       "      <td>XL</td>\n",
       "      <td>corto</td>\n",
       "    </tr>\n",
       "  </tbody>\n",
       "</table>\n",
       "</div>"
      ],
      "text/plain": [
       "                                                nombre         marca  precio  \\\n",
       "581  vestido semilargo marrón con estampado de luna...  LoveTriangle   104.0   \n",
       "566  vestido lencero semilargo negro de corte al bi...  LoveTriangle    58.5   \n",
       "561  vestido corto rojo guinda con detalle floral y...  LoveTriangle    67.5   \n",
       "320  vestido largo color piedra de manga larga con ...      VeroModa    69.0   \n",
       "327  vestido corto negro plisado con cuello alto de...      VeroModa    63.0   \n",
       "\n",
       "           color talla categoria  \n",
       "581  brown multi   XXS     largo  \n",
       "566        black     S     largo  \n",
       "561   cherry red     M     corto  \n",
       "320        stone    XL     largo  \n",
       "327        black    XL     corto  "
      ]
     },
     "execution_count": 18,
     "metadata": {},
     "output_type": "execute_result"
    }
   ],
   "source": [
    "df.sample(5)"
   ]
  },
  {
   "cell_type": "code",
   "execution_count": null,
   "metadata": {},
   "outputs": [],
   "source": []
  }
 ],
 "metadata": {
  "kernelspec": {
   "display_name": "Python 3",
   "language": "python",
   "name": "python3"
  },
  "language_info": {
   "codemirror_mode": {
    "name": "ipython",
    "version": 3
   },
   "file_extension": ".py",
   "mimetype": "text/x-python",
   "name": "python",
   "nbconvert_exporter": "python",
   "pygments_lexer": "ipython3",
   "version": "3.11.9"
  }
 },
 "nbformat": 4,
 "nbformat_minor": 2
}
