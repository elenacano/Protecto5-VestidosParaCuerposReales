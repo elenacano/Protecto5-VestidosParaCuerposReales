{
 "cells": [
  {
   "cell_type": "markdown",
   "metadata": {},
   "source": [
    "# API Asos"
   ]
  },
  {
   "cell_type": "code",
   "execution_count": 2,
   "metadata": {},
   "outputs": [],
   "source": [
    "import pandas as pd\n",
    "import json\n",
    "import os\n",
    "import sys\n",
    "import dotenv\n",
    "\n",
    "dotenv.load_dotenv()\n",
    "\n",
    "sys.path.append(os.path.abspath('../'))\n",
    "from src import funciones_api as fa\n",
    "from src import dic"
   ]
  },
  {
   "cell_type": "markdown",
   "metadata": {},
   "source": [
    "En primer lugar hacemos la llamada a la api para cada una de las marcas obtener todos sus productos:"
   ]
  },
  {
   "cell_type": "code",
   "execution_count": 11,
   "metadata": {},
   "outputs": [],
   "source": [
    "lista_id = [8264, 4715, 28466, 20758, 18936, 28624]\n",
    "lista_marcas = [\"Mango\", \"VeroModa\", \"NAKD\", \"LoveTriangle\", \"JadedRose\", \"Ghospell\"]"
   ]
  },
  {
   "cell_type": "code",
   "execution_count": null,
   "metadata": {},
   "outputs": [],
   "source": [
    "fa.busqueda_vestido_marca(lista_id, lista_marcas)"
   ]
  },
  {
   "cell_type": "markdown",
   "metadata": {},
   "source": [
    "Creamos un diccionario para cada marca donde almacenamos como valor una lista de dos elementos con la lista de ids y el diccionario de precios."
   ]
  },
  {
   "cell_type": "code",
   "execution_count": 12,
   "metadata": {},
   "outputs": [],
   "source": [
    "dic_info={}\n",
    "\n",
    "for marca in lista_marcas:    \n",
    "    lista_id_vestido = []\n",
    "    dic_precio = {}\n",
    "\n",
    "    with open(f\"../datos/api_asos/{marca}/vestidos_{marca}.json\", 'r') as file:\n",
    "        response = json.load(file)\n",
    "\n",
    "    for i in range(len(response[\"data\"][\"products\"])):\n",
    "        if \"dress\" in response[\"data\"][\"products\"][i][\"name\"]:\n",
    "            id = response[\"data\"][\"products\"][i][\"id\"]\n",
    "            lista_id_vestido.append(id)\n",
    "            dic_precio[id]=response[\"data\"][\"products\"][i][\"price\"][\"current\"][\"value\"]\n",
    "\n",
    "    dic_info[marca]=[lista_id_vestido, dic_precio]"
   ]
  },
  {
   "cell_type": "markdown",
   "metadata": {},
   "source": [
    "Para cada vestido, gacemos una llamada personalizada a la API para obtener más información."
   ]
  },
  {
   "cell_type": "code",
   "execution_count": 9,
   "metadata": {},
   "outputs": [],
   "source": [
    "fa.detalles_vestido(lista_marcas, dic_info)"
   ]
  },
  {
   "cell_type": "markdown",
   "metadata": {},
   "source": [
    "Creamos un diccionario con todo los productos que hemos recolectado dentro de ASOS de las distintas marcas y creamos y almacenamos un dataframe con todos ellos."
   ]
  },
  {
   "cell_type": "code",
   "execution_count": 13,
   "metadata": {},
   "outputs": [
    {
     "name": "stdout",
     "output_type": "stream",
     "text": [
      "Mango\n",
      "VeroModa\n",
      "NAKD\n",
      "LoveTriangle\n",
      "JadedRose\n",
      "Ghospell\n"
     ]
    }
   ],
   "source": [
    "dic_vestidos = fa.creacion_diccionario_asos(dic_info, lista_marcas)\n",
    "df = pd.DataFrame(dic_vestidos)"
   ]
  },
  {
   "cell_type": "code",
   "execution_count": 14,
   "metadata": {},
   "outputs": [],
   "source": [
    "# añadimos la columna de categoria del vestido\n",
    "df[\"nombre\"] = df[\"nombre\"].str.lower()\n",
    "df[\"color\"] = df[\"color\"].str.lower()\n",
    "df[\"categoria\"] = df[\"nombre\"].str.extract('(largo|midi|corto|maxi|mini)', expand=True)\n",
    "\n",
    "# Como todos los valores de disponible son True, eliminamos la columna\n",
    "df.drop(columns=\"disponible\", inplace=True)\n",
    "\n",
    "# Estandarizamos las tallas\n",
    "df['talla'] = df['talla'].replace(dic.mapo_talla)"
   ]
  },
  {
   "cell_type": "code",
   "execution_count": 15,
   "metadata": {},
   "outputs": [],
   "source": [
    "df.to_csv(\"../datos/api_asos/df_asos.csv\")\n",
    "df.to_csv(\"../datos/dataframes/df_asos.csv\")"
   ]
  },
  {
   "cell_type": "code",
   "execution_count": 16,
   "metadata": {},
   "outputs": [
    {
     "data": {
      "text/html": [
       "<div>\n",
       "<style scoped>\n",
       "    .dataframe tbody tr th:only-of-type {\n",
       "        vertical-align: middle;\n",
       "    }\n",
       "\n",
       "    .dataframe tbody tr th {\n",
       "        vertical-align: top;\n",
       "    }\n",
       "\n",
       "    .dataframe thead th {\n",
       "        text-align: right;\n",
       "    }\n",
       "</style>\n",
       "<table border=\"1\" class=\"dataframe\">\n",
       "  <thead>\n",
       "    <tr style=\"text-align: right;\">\n",
       "      <th></th>\n",
       "      <th>nombre</th>\n",
       "      <th>marca</th>\n",
       "      <th>precio</th>\n",
       "      <th>color</th>\n",
       "      <th>talla</th>\n",
       "      <th>categoria</th>\n",
       "    </tr>\n",
       "  </thead>\n",
       "  <tbody>\n",
       "    <tr>\n",
       "      <th>804</th>\n",
       "      <td>vestido camisero corto monocromático con detal...</td>\n",
       "      <td>Ghospell</td>\n",
       "      <td>97.5</td>\n",
       "      <td>black</td>\n",
       "      <td>M</td>\n",
       "      <td>corto</td>\n",
       "    </tr>\n",
       "    <tr>\n",
       "      <th>469</th>\n",
       "      <td>vestido midi verde oliva con cremallera delant...</td>\n",
       "      <td>VeroModa</td>\n",
       "      <td>87.0</td>\n",
       "      <td>olive</td>\n",
       "      <td>L</td>\n",
       "      <td>midi</td>\n",
       "    </tr>\n",
       "    <tr>\n",
       "      <th>683</th>\n",
       "      <td>vestido corto blanco marfil asimétrico con bal...</td>\n",
       "      <td>JadedRose</td>\n",
       "      <td>72.0</td>\n",
       "      <td>ivory</td>\n",
       "      <td>XXS</td>\n",
       "      <td>corto</td>\n",
       "    </tr>\n",
       "  </tbody>\n",
       "</table>\n",
       "</div>"
      ],
      "text/plain": [
       "                                                nombre      marca  precio  \\\n",
       "804  vestido camisero corto monocromático con detal...   Ghospell    97.5   \n",
       "469  vestido midi verde oliva con cremallera delant...   VeroModa    87.0   \n",
       "683  vestido corto blanco marfil asimétrico con bal...  JadedRose    72.0   \n",
       "\n",
       "     color talla categoria  \n",
       "804  black     M     corto  \n",
       "469  olive     L      midi  \n",
       "683  ivory   XXS     corto  "
      ]
     },
     "execution_count": 16,
     "metadata": {},
     "output_type": "execute_result"
    }
   ],
   "source": [
    "df.sample(3)"
   ]
  },
  {
   "cell_type": "code",
   "execution_count": null,
   "metadata": {},
   "outputs": [],
   "source": []
  }
 ],
 "metadata": {
  "kernelspec": {
   "display_name": "Python 3",
   "language": "python",
   "name": "python3"
  },
  "language_info": {
   "codemirror_mode": {
    "name": "ipython",
    "version": 3
   },
   "file_extension": ".py",
   "mimetype": "text/x-python",
   "name": "python",
   "nbconvert_exporter": "python",
   "pygments_lexer": "ipython3",
   "version": "3.11.9"
  }
 },
 "nbformat": 4,
 "nbformat_minor": 2
}
