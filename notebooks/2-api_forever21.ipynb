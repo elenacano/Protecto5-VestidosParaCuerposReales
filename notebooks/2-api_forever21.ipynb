{
 "cells": [
  {
   "cell_type": "markdown",
   "metadata": {},
   "source": [
    "# API Forever21"
   ]
  },
  {
   "cell_type": "code",
   "execution_count": 1,
   "metadata": {},
   "outputs": [],
   "source": [
    "import requests\n",
    "import pandas as pd\n",
    "import json\n",
    "import os\n",
    "import sys\n",
    "import dotenv\n",
    "\n",
    "dotenv.load_dotenv()\n",
    "\n",
    "\n",
    "sys.path.append(os.path.abspath('../'))\n",
    "from src import funciones_auxiliares as fa\n",
    "from src import dic_colores"
   ]
  },
  {
   "cell_type": "markdown",
   "metadata": {},
   "source": [
    "Obtenemos todos los vestidos de la tienda:"
   ]
  },
  {
   "cell_type": "code",
   "execution_count": null,
   "metadata": {},
   "outputs": [],
   "source": [
    "url = \"https://apidojo-forever21-v1.p.rapidapi.com/products/search\"\n",
    "api_key = os.getenv(\"api_forever21\")\n",
    "\n",
    "querystring = {\"query\":\"dress\",\"rows\":\"1000\",\"start\":\"0\"}\n",
    "\n",
    "headers = {\n",
    "\t\"x-rapidapi-key\": api_key,\n",
    "\t\"x-rapidapi-host\": \"apidojo-forever21-v1.p.rapidapi.com\"\n",
    "}\n",
    "\n",
    "response = requests.get(url, headers=headers, params=querystring)\n",
    "\n",
    "res = response.json()\n",
    "with open(\"../datos/api_forever21/vestidos_21.json\", 'w') as file:\n",
    "    json.dump(res, file, indent=4)"
   ]
  },
  {
   "cell_type": "markdown",
   "metadata": {},
   "source": [
    "Para cada vestido sacamos un json más detallado:"
   ]
  },
  {
   "cell_type": "code",
   "execution_count": null,
   "metadata": {},
   "outputs": [],
   "source": [
    "lista_id_vestido_21 = []\n",
    "with open(\"../datos/api_forever21/vestidos_21.json\", 'r') as file:\n",
    "    vestidos_forever21 = json.load(file)\n",
    "\n",
    "for i in range(len(vestidos_forever21[\"response\"][\"docs\"])):\n",
    "    id = vestidos_forever21[\"response\"][\"docs\"][i][\"pid\"]\n",
    "    lista_id_vestido_21.append(id)"
   ]
  },
  {
   "cell_type": "code",
   "execution_count": null,
   "metadata": {},
   "outputs": [],
   "source": [
    "try:\t\n",
    "\tfor id in lista_id_vestido_21:\n",
    "\t\turl = \"https://apidojo-forever21-v1.p.rapidapi.com/products/v2/detail\"\n",
    "\t\tapi_key = os.getenv(\"api_forever21\")\n",
    "\n",
    "\t\tquerystring = {\"productId\":{id}}\n",
    "\n",
    "\t\theaders = {\n",
    "\t\t\t\"x-rapidapi-key\": api_key,\n",
    "\t\t\t\"x-rapidapi-host\": \"apidojo-forever21-v1.p.rapidapi.com\"\n",
    "\t\t}\n",
    "\n",
    "\t\tresponse = requests.get(url, headers=headers, params=querystring)\n",
    "\n",
    "\t\tproducto = response.json()\n",
    "\t\twith open(f\"../datos/api_forever21/{id}_forever21.json\", 'w') as file:\n",
    "\t\t\tjson.dump(producto, file, indent=4)\n",
    "\n",
    "except requests.exceptions.RequestException as e:\n",
    "    print(f\"Error de red al solicitar el producto {id}: {e}\")\n",
    "except json.JSONDecodeError as e:\n",
    "    print(f\"Error al decodificar JSON para el producto {id}: {e}\")\n",
    "except Exception as e:\n",
    "    print(f\"Ocurrió un error inesperado con el producto {id}: {e}\")"
   ]
  },
  {
   "cell_type": "markdown",
   "metadata": {},
   "source": [
    "Una vez tenemos el json de todos los vestidos extraemos la informacion relevante:"
   ]
  },
  {
   "cell_type": "code",
   "execution_count": 15,
   "metadata": {},
   "outputs": [],
   "source": [
    "dic_vestidos = fa.creacion_diccionario_forever21()\n",
    "df_forever21 = pd.DataFrame(dic_vestidos)"
   ]
  },
  {
   "cell_type": "code",
   "execution_count": 16,
   "metadata": {},
   "outputs": [],
   "source": [
    "# cambiamos los colores a español\n",
    "df_forever21[\"color\"] = df_forever21[\"color\"].map(dic_colores.colores)\n",
    "\n",
    "# añadimos la columna de categoria del vestido\n",
    "df_forever21[\"nombre\"] = df_forever21[\"nombre\"].str.lower()\n",
    "df_forever21[\"categoria\"] = df_forever21[\"nombre\"].str.extract('(largo|midi|corto|maxi|mini)', expand=True)"
   ]
  },
  {
   "cell_type": "markdown",
   "metadata": {},
   "source": [
    "Una vez comprobado que no hay duplicados y nulos solo en la categoria creada por nosotros, procedemos a almacenar el dataframe."
   ]
  },
  {
   "cell_type": "code",
   "execution_count": 22,
   "metadata": {},
   "outputs": [],
   "source": [
    "df_forever21.to_csv(\"../datos/dataframes/df_forever21.csv\")"
   ]
  },
  {
   "cell_type": "code",
   "execution_count": 25,
   "metadata": {},
   "outputs": [
    {
     "data": {
      "text/html": [
       "<div>\n",
       "<style scoped>\n",
       "    .dataframe tbody tr th:only-of-type {\n",
       "        vertical-align: middle;\n",
       "    }\n",
       "\n",
       "    .dataframe tbody tr th {\n",
       "        vertical-align: top;\n",
       "    }\n",
       "\n",
       "    .dataframe thead th {\n",
       "        text-align: right;\n",
       "    }\n",
       "</style>\n",
       "<table border=\"1\" class=\"dataframe\">\n",
       "  <thead>\n",
       "    <tr style=\"text-align: right;\">\n",
       "      <th></th>\n",
       "      <th>nombre</th>\n",
       "      <th>marca</th>\n",
       "      <th>precio</th>\n",
       "      <th>color</th>\n",
       "      <th>talla</th>\n",
       "      <th>stock</th>\n",
       "      <th>categoria</th>\n",
       "    </tr>\n",
       "  </thead>\n",
       "  <tbody>\n",
       "    <tr>\n",
       "      <th>174</th>\n",
       "      <td>plus size lace bell-sleeve mini dress</td>\n",
       "      <td>Forever21</td>\n",
       "      <td>44.99</td>\n",
       "      <td>granate</td>\n",
       "      <td>2X</td>\n",
       "      <td>45.0</td>\n",
       "      <td>mini</td>\n",
       "    </tr>\n",
       "    <tr>\n",
       "      <th>381</th>\n",
       "      <td>jacquard floral halter mini dress</td>\n",
       "      <td>Forever21</td>\n",
       "      <td>29.99</td>\n",
       "      <td>granate</td>\n",
       "      <td>S</td>\n",
       "      <td>69.0</td>\n",
       "      <td>mini</td>\n",
       "    </tr>\n",
       "  </tbody>\n",
       "</table>\n",
       "</div>"
      ],
      "text/plain": [
       "                                    nombre      marca  precio    color talla  \\\n",
       "174  plus size lace bell-sleeve mini dress  Forever21   44.99  granate    2X   \n",
       "381      jacquard floral halter mini dress  Forever21   29.99  granate     S   \n",
       "\n",
       "     stock categoria  \n",
       "174   45.0      mini  \n",
       "381   69.0      mini  "
      ]
     },
     "execution_count": 25,
     "metadata": {},
     "output_type": "execute_result"
    }
   ],
   "source": [
    "df_forever21.sample(2)"
   ]
  }
 ],
 "metadata": {
  "kernelspec": {
   "display_name": "Python 3",
   "language": "python",
   "name": "python3"
  },
  "language_info": {
   "codemirror_mode": {
    "name": "ipython",
    "version": 3
   },
   "file_extension": ".py",
   "mimetype": "text/x-python",
   "name": "python",
   "nbconvert_exporter": "python",
   "pygments_lexer": "ipython3",
   "version": "3.11.9"
  }
 },
 "nbformat": 4,
 "nbformat_minor": 2
}
