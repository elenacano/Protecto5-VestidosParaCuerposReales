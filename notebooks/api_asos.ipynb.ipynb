{
 "cells": [
  {
   "cell_type": "markdown",
   "metadata": {},
   "source": [
    "# API Asos"
   ]
  },
  {
   "cell_type": "code",
   "execution_count": 1,
   "metadata": {},
   "outputs": [],
   "source": [
    "import json\n",
    "import requests\n",
    "import pandas as pd\n",
    "import os\n",
    "import sys\n",
    "import dotenv\n",
    "\n",
    "dotenv.load_dotenv()\n",
    "\n",
    "sys.path.append(os.path.abspath('../'))\n",
    "from src import funciones_auxiliares as fa\n",
    "from src import dic_colores"
   ]
  },
  {
   "cell_type": "markdown",
   "metadata": {},
   "source": [
    "Buscamos en la API de Asos vestidos de Mango, ya que es una de las marcas favoritas de las clientas:"
   ]
  },
  {
   "cell_type": "code",
   "execution_count": null,
   "metadata": {},
   "outputs": [],
   "source": [
    "url = \"https://asos10.p.rapidapi.com/api/v1/getProductList\"\n",
    "id_mango = 8264\n",
    "api_key = os.getenv(\"api_asos\")\n",
    "\n",
    "querystring = {\"categoryId\":id_mango, \"sort\":\"recommended\", \"limit\":2000}\n",
    "\n",
    "headers = {\n",
    "\t\"x-rapidapi-key\": api_key,\n",
    "\t\"x-rapidapi-host\": \"asos10.p.rapidapi.com\"\n",
    "}\n",
    "\n",
    "response = requests.get(url, headers=headers, params=querystring)\n",
    "response_mango = response.json()\n",
    "\n",
    "# Guardamos el resultado en datos\n",
    "with open(\"../datos/api_asos/vestidos_mango.json\", 'w') as file:\n",
    "    json.dump(response_mango, file, indent=4)\n"
   ]
  },
  {
   "cell_type": "markdown",
   "metadata": {},
   "source": [
    "Filtramos los productos que sean vestidos:"
   ]
  },
  {
   "cell_type": "code",
   "execution_count": 2,
   "metadata": {},
   "outputs": [],
   "source": [
    "lista_id_vestido = []\n",
    "dic_precio = {}\n",
    "with open(f\"../datos/api_asos/vestidos_mango.json\", 'r') as file:\n",
    "    response_mango = json.load(file)\n",
    "\n",
    "for i in range(len(response_mango[\"data\"][\"products\"])):\n",
    "    if \"dress\" in response_mango[\"data\"][\"products\"][i][\"name\"]:\n",
    "        id = response_mango[\"data\"][\"products\"][i][\"id\"]\n",
    "        lista_id_vestido.append(id)\n",
    "        dic_precio[id]=response_mango[\"data\"][\"products\"][i][\"price\"][\"current\"][\"value\"]"
   ]
  },
  {
   "cell_type": "markdown",
   "metadata": {},
   "source": [
    "Para cada vestido volvemos a llamar a la api para que nos de aún más información de cada producto."
   ]
  },
  {
   "cell_type": "code",
   "execution_count": null,
   "metadata": {},
   "outputs": [],
   "source": [
    "api_key = os.getenv(\"api_asos\")\n",
    "\n",
    "for id in lista_id_vestido:\n",
    "\n",
    "    url = \"https://asos10.p.rapidapi.com/api/v1/getProductDetails\"\n",
    "\n",
    "    querystring = {\"productId\":[id]}\n",
    "\n",
    "    headers = {\n",
    "        \"x-rapidapi-key\": api_key,\n",
    "        \"x-rapidapi-host\": \"asos10.p.rapidapi.com\"\n",
    "    }\n",
    "\n",
    "    response = requests.get(url, headers=headers, params=querystring)\n",
    "\n",
    "    res = response.json()\n",
    "    with open(f\"../datos/api_asos/vestido_{id}.json\", 'w') as file:\n",
    "        json.dump(res, file, indent=4)"
   ]
  },
  {
   "cell_type": "markdown",
   "metadata": {},
   "source": [
    "Generamos un diccionario limpio con todos los valores necesarios y creamos un daraframe."
   ]
  },
  {
   "cell_type": "code",
   "execution_count": 13,
   "metadata": {},
   "outputs": [],
   "source": [
    "dic_vestidos = fa.creacion_diccionario_asos(dic_precio)\n",
    "df_mango = pd.DataFrame(dic_vestidos)"
   ]
  },
  {
   "cell_type": "code",
   "execution_count": 14,
   "metadata": {},
   "outputs": [],
   "source": [
    "# cambiamos los colores a español\n",
    "df_mango[\"color\"] = df_mango[\"color\"].map(dic_colores.colores)\n",
    "\n",
    "# añadimos la columna de categoria del vestido\n",
    "df_mango[\"nombre\"] = df_mango[\"nombre\"].str.lower()\n",
    "df_mango[\"categoria\"] = df_mango[\"nombre\"].str.extract('(largo|midi|corto|maxi|mini)', expand=True)"
   ]
  },
  {
   "cell_type": "markdown",
   "metadata": {},
   "source": [
    "Una vez comprobado que no hay duplicados y nulos solo en la categoria creada por nosotros, procedemos a almacenar el dataframe."
   ]
  },
  {
   "cell_type": "code",
   "execution_count": 15,
   "metadata": {},
   "outputs": [],
   "source": [
    "df_mango.to_csv(\"../datos/dataframes/df_mango.csv\")"
   ]
  },
  {
   "cell_type": "code",
   "execution_count": 12,
   "metadata": {},
   "outputs": [
    {
     "data": {
      "text/html": [
       "<div>\n",
       "<style scoped>\n",
       "    .dataframe tbody tr th:only-of-type {\n",
       "        vertical-align: middle;\n",
       "    }\n",
       "\n",
       "    .dataframe tbody tr th {\n",
       "        vertical-align: top;\n",
       "    }\n",
       "\n",
       "    .dataframe thead th {\n",
       "        text-align: right;\n",
       "    }\n",
       "</style>\n",
       "<table border=\"1\" class=\"dataframe\">\n",
       "  <thead>\n",
       "    <tr style=\"text-align: right;\">\n",
       "      <th></th>\n",
       "      <th>nombre</th>\n",
       "      <th>marca</th>\n",
       "      <th>precio</th>\n",
       "      <th>color</th>\n",
       "      <th>talla</th>\n",
       "      <th>disponible</th>\n",
       "      <th>categoria</th>\n",
       "    </tr>\n",
       "  </thead>\n",
       "  <tbody>\n",
       "    <tr>\n",
       "      <th>0</th>\n",
       "      <td>vestido midi plateado con cuello halter de len...</td>\n",
       "      <td>Mango</td>\n",
       "      <td>133.0</td>\n",
       "      <td>plata</td>\n",
       "      <td>S</td>\n",
       "      <td>True</td>\n",
       "      <td>midi</td>\n",
       "    </tr>\n",
       "    <tr>\n",
       "      <th>1</th>\n",
       "      <td>vestido midi plateado con cuello halter de len...</td>\n",
       "      <td>Mango</td>\n",
       "      <td>133.0</td>\n",
       "      <td>plata</td>\n",
       "      <td>M</td>\n",
       "      <td>True</td>\n",
       "      <td>midi</td>\n",
       "    </tr>\n",
       "    <tr>\n",
       "      <th>2</th>\n",
       "      <td>vestido midi plateado con cuello halter de len...</td>\n",
       "      <td>Mango</td>\n",
       "      <td>133.0</td>\n",
       "      <td>plata</td>\n",
       "      <td>L</td>\n",
       "      <td>True</td>\n",
       "      <td>midi</td>\n",
       "    </tr>\n",
       "  </tbody>\n",
       "</table>\n",
       "</div>"
      ],
      "text/plain": [
       "                                              nombre  marca  precio  color  \\\n",
       "0  vestido midi plateado con cuello halter de len...  Mango   133.0  plata   \n",
       "1  vestido midi plateado con cuello halter de len...  Mango   133.0  plata   \n",
       "2  vestido midi plateado con cuello halter de len...  Mango   133.0  plata   \n",
       "\n",
       "  talla  disponible categoria  \n",
       "0     S        True      midi  \n",
       "1     M        True      midi  \n",
       "2     L        True      midi  "
      ]
     },
     "execution_count": 12,
     "metadata": {},
     "output_type": "execute_result"
    }
   ],
   "source": [
    "df_mango.head(3)"
   ]
  }
 ],
 "metadata": {
  "kernelspec": {
   "display_name": "Python 3",
   "language": "python",
   "name": "python3"
  },
  "language_info": {
   "codemirror_mode": {
    "name": "ipython",
    "version": 3
   },
   "file_extension": ".py",
   "mimetype": "text/x-python",
   "name": "python",
   "nbconvert_exporter": "python",
   "pygments_lexer": "ipython3",
   "version": "3.11.9"
  }
 },
 "nbformat": 4,
 "nbformat_minor": 2
}
