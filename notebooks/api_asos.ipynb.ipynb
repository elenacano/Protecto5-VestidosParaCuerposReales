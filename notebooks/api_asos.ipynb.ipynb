{
 "cells": [
  {
   "cell_type": "markdown",
   "metadata": {},
   "source": [
    "# API Asos"
   ]
  },
  {
   "cell_type": "code",
   "execution_count": 15,
   "metadata": {},
   "outputs": [],
   "source": [
    "import json\n",
    "import requests\n",
    "import pandas as pd\n",
    "import os\n",
    "import sys\n",
    "import dotenv\n",
    "\n",
    "dotenv.load_dotenv()\n",
    "\n",
    "sys.path.append(os.path.abspath('../'))\n",
    "from src import funciones_auxiliares as fa"
   ]
  },
  {
   "cell_type": "markdown",
   "metadata": {},
   "source": [
    "Buscamos en la API de Asos vestidos de Mango, ya que es una de las marcas favoritas de las clientas:"
   ]
  },
  {
   "cell_type": "code",
   "execution_count": null,
   "metadata": {},
   "outputs": [],
   "source": [
    "url = \"https://asos10.p.rapidapi.com/api/v1/getProductList\"\n",
    "id_mango = 8264\n",
    "api_key = os.getenv(\"api_asos\")\n",
    "\n",
    "querystring = {\"categoryId\":id_mango, \"sort\":\"recommended\", \"limit\":2000}\n",
    "\n",
    "headers = {\n",
    "\t\"x-rapidapi-key\": api_key,\n",
    "\t\"x-rapidapi-host\": \"asos10.p.rapidapi.com\"\n",
    "}\n",
    "\n",
    "response = requests.get(url, headers=headers, params=querystring)\n",
    "response_mango = response.json()\n",
    "\n",
    "# Guardamos el resultado en datos\n",
    "with open(\"../datos/api_asos/vestidos_mango.json\", 'w') as file:\n",
    "    json.dump(response_mango, file, indent=4)\n"
   ]
  },
  {
   "cell_type": "markdown",
   "metadata": {},
   "source": [
    "Filtramos los productos que sean vestidos:"
   ]
  },
  {
   "cell_type": "code",
   "execution_count": 3,
   "metadata": {},
   "outputs": [],
   "source": [
    "lista_id_vestido = []\n",
    "dic_precio = {}\n",
    "with open(f\"../datos/api_asos/vestidos_mango.json\", 'r') as file:\n",
    "    response_mango = json.load(file)\n",
    "\n",
    "for i in range(len(response_mango[\"data\"][\"products\"])):\n",
    "    if \"dress\" in response_mango[\"data\"][\"products\"][i][\"name\"]:\n",
    "        id = response_mango[\"data\"][\"products\"][i][\"id\"]\n",
    "        lista_id_vestido.append(id)\n",
    "        dic_precio[id]=response_mango[\"data\"][\"products\"][i][\"price\"][\"current\"][\"value\"]"
   ]
  },
  {
   "cell_type": "code",
   "execution_count": 39,
   "metadata": {},
   "outputs": [
    {
     "data": {
      "text/plain": [
       "47"
      ]
     },
     "execution_count": 39,
     "metadata": {},
     "output_type": "execute_result"
    }
   ],
   "source": [
    "len(lista_id_vestido)"
   ]
  },
  {
   "cell_type": "markdown",
   "metadata": {},
   "source": [
    "Para cada vestido volvemos a llamar a la api para que nos de aún más información de cada producto."
   ]
  },
  {
   "cell_type": "code",
   "execution_count": null,
   "metadata": {},
   "outputs": [],
   "source": [
    "api_key = os.getenv(\"api_asos\")\n",
    "\n",
    "for id in lista_id_vestido:\n",
    "\n",
    "    url = \"https://asos10.p.rapidapi.com/api/v1/getProductDetails\"\n",
    "\n",
    "    querystring = {\"productId\":[id]}\n",
    "\n",
    "    headers = {\n",
    "        \"x-rapidapi-key\": api_key,\n",
    "        \"x-rapidapi-host\": \"asos10.p.rapidapi.com\"\n",
    "    }\n",
    "\n",
    "    response = requests.get(url, headers=headers, params=querystring)\n",
    "\n",
    "    res = response.json()\n",
    "    with open(f\"../datos/api_asos/vestido_{id}.json\", 'w') as file:\n",
    "        json.dump(res, file, indent=4)"
   ]
  },
  {
   "cell_type": "markdown",
   "metadata": {},
   "source": [
    "Generamos un diccionario limpio con todos los valores necesarios y creamos un daraframe."
   ]
  },
  {
   "cell_type": "code",
   "execution_count": 9,
   "metadata": {},
   "outputs": [],
   "source": [
    "dic_vestidos = fa.creacion_diccionario_asos(dic_precio)\n",
    "df_mango = pd.DataFrame(dic_vestidos)"
   ]
  },
  {
   "cell_type": "code",
   "execution_count": 10,
   "metadata": {},
   "outputs": [],
   "source": [
    "df_mango[\"color\"] = df_mango[\"color\"].map(fa.colores)"
   ]
  },
  {
   "cell_type": "code",
   "execution_count": 14,
   "metadata": {},
   "outputs": [
    {
     "data": {
      "text/html": [
       "<div>\n",
       "<style scoped>\n",
       "    .dataframe tbody tr th:only-of-type {\n",
       "        vertical-align: middle;\n",
       "    }\n",
       "\n",
       "    .dataframe tbody tr th {\n",
       "        vertical-align: top;\n",
       "    }\n",
       "\n",
       "    .dataframe thead th {\n",
       "        text-align: right;\n",
       "    }\n",
       "</style>\n",
       "<table border=\"1\" class=\"dataframe\">\n",
       "  <thead>\n",
       "    <tr style=\"text-align: right;\">\n",
       "      <th></th>\n",
       "      <th>nombre</th>\n",
       "      <th>marca</th>\n",
       "      <th>precio</th>\n",
       "      <th>color</th>\n",
       "      <th>talla</th>\n",
       "      <th>disponible</th>\n",
       "    </tr>\n",
       "  </thead>\n",
       "  <tbody>\n",
       "    <tr>\n",
       "      <th>0</th>\n",
       "      <td>Vestido midi plateado con cuello halter de len...</td>\n",
       "      <td>Mango</td>\n",
       "      <td>133.00</td>\n",
       "      <td>plata</td>\n",
       "      <td>S</td>\n",
       "      <td>True</td>\n",
       "    </tr>\n",
       "    <tr>\n",
       "      <th>1</th>\n",
       "      <td>Vestido midi plateado con cuello halter de len...</td>\n",
       "      <td>Mango</td>\n",
       "      <td>133.00</td>\n",
       "      <td>plata</td>\n",
       "      <td>M</td>\n",
       "      <td>True</td>\n",
       "    </tr>\n",
       "    <tr>\n",
       "      <th>2</th>\n",
       "      <td>Vestido midi plateado con cuello halter de len...</td>\n",
       "      <td>Mango</td>\n",
       "      <td>133.00</td>\n",
       "      <td>plata</td>\n",
       "      <td>L</td>\n",
       "      <td>True</td>\n",
       "    </tr>\n",
       "    <tr>\n",
       "      <th>3</th>\n",
       "      <td>Vestido midi negro con estampado floral y aber...</td>\n",
       "      <td>Mango</td>\n",
       "      <td>129.99</td>\n",
       "      <td>negro</td>\n",
       "      <td>XS</td>\n",
       "      <td>True</td>\n",
       "    </tr>\n",
       "    <tr>\n",
       "      <th>4</th>\n",
       "      <td>Vestido midi negro con estampado floral y aber...</td>\n",
       "      <td>Mango</td>\n",
       "      <td>129.99</td>\n",
       "      <td>negro</td>\n",
       "      <td>S</td>\n",
       "      <td>True</td>\n",
       "    </tr>\n",
       "    <tr>\n",
       "      <th>...</th>\n",
       "      <td>...</td>\n",
       "      <td>...</td>\n",
       "      <td>...</td>\n",
       "      <td>...</td>\n",
       "      <td>...</td>\n",
       "      <td>...</td>\n",
       "    </tr>\n",
       "    <tr>\n",
       "      <th>206</th>\n",
       "      <td>Vestido largo marrón oscuro sin mangas con pes...</td>\n",
       "      <td>Mango</td>\n",
       "      <td>99.99</td>\n",
       "      <td>marrón oscuro</td>\n",
       "      <td>XS</td>\n",
       "      <td>True</td>\n",
       "    </tr>\n",
       "    <tr>\n",
       "      <th>207</th>\n",
       "      <td>Vestido largo marrón oscuro sin mangas con pes...</td>\n",
       "      <td>Mango</td>\n",
       "      <td>99.99</td>\n",
       "      <td>marrón oscuro</td>\n",
       "      <td>S</td>\n",
       "      <td>True</td>\n",
       "    </tr>\n",
       "    <tr>\n",
       "      <th>208</th>\n",
       "      <td>Vestido largo marrón oscuro sin mangas con pes...</td>\n",
       "      <td>Mango</td>\n",
       "      <td>99.99</td>\n",
       "      <td>marrón oscuro</td>\n",
       "      <td>M</td>\n",
       "      <td>True</td>\n",
       "    </tr>\n",
       "    <tr>\n",
       "      <th>209</th>\n",
       "      <td>Vestido largo marrón oscuro sin mangas con pes...</td>\n",
       "      <td>Mango</td>\n",
       "      <td>99.99</td>\n",
       "      <td>marrón oscuro</td>\n",
       "      <td>L</td>\n",
       "      <td>True</td>\n",
       "    </tr>\n",
       "    <tr>\n",
       "      <th>210</th>\n",
       "      <td>Vestido largo marrón oscuro sin mangas con pes...</td>\n",
       "      <td>Mango</td>\n",
       "      <td>99.99</td>\n",
       "      <td>marrón oscuro</td>\n",
       "      <td>XL</td>\n",
       "      <td>True</td>\n",
       "    </tr>\n",
       "  </tbody>\n",
       "</table>\n",
       "<p>211 rows × 6 columns</p>\n",
       "</div>"
      ],
      "text/plain": [
       "                                                nombre  marca  precio  \\\n",
       "0    Vestido midi plateado con cuello halter de len...  Mango  133.00   \n",
       "1    Vestido midi plateado con cuello halter de len...  Mango  133.00   \n",
       "2    Vestido midi plateado con cuello halter de len...  Mango  133.00   \n",
       "3    Vestido midi negro con estampado floral y aber...  Mango  129.99   \n",
       "4    Vestido midi negro con estampado floral y aber...  Mango  129.99   \n",
       "..                                                 ...    ...     ...   \n",
       "206  Vestido largo marrón oscuro sin mangas con pes...  Mango   99.99   \n",
       "207  Vestido largo marrón oscuro sin mangas con pes...  Mango   99.99   \n",
       "208  Vestido largo marrón oscuro sin mangas con pes...  Mango   99.99   \n",
       "209  Vestido largo marrón oscuro sin mangas con pes...  Mango   99.99   \n",
       "210  Vestido largo marrón oscuro sin mangas con pes...  Mango   99.99   \n",
       "\n",
       "             color talla  disponible  \n",
       "0            plata     S        True  \n",
       "1            plata     M        True  \n",
       "2            plata     L        True  \n",
       "3            negro    XS        True  \n",
       "4            negro     S        True  \n",
       "..             ...   ...         ...  \n",
       "206  marrón oscuro    XS        True  \n",
       "207  marrón oscuro     S        True  \n",
       "208  marrón oscuro     M        True  \n",
       "209  marrón oscuro     L        True  \n",
       "210  marrón oscuro    XL        True  \n",
       "\n",
       "[211 rows x 6 columns]"
      ]
     },
     "execution_count": 14,
     "metadata": {},
     "output_type": "execute_result"
    }
   ],
   "source": [
    "df_mango"
   ]
  },
  {
   "cell_type": "code",
   "execution_count": null,
   "metadata": {},
   "outputs": [],
   "source": []
  }
 ],
 "metadata": {
  "kernelspec": {
   "display_name": "Python 3",
   "language": "python",
   "name": "python3"
  },
  "language_info": {
   "codemirror_mode": {
    "name": "ipython",
    "version": 3
   },
   "file_extension": ".py",
   "mimetype": "text/x-python",
   "name": "python",
   "nbconvert_exporter": "python",
   "pygments_lexer": "ipython3",
   "version": "3.11.9"
  }
 },
 "nbformat": 4,
 "nbformat_minor": 2
}
