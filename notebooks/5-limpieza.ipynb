{
 "cells": [
  {
   "cell_type": "markdown",
   "metadata": {},
   "source": [
    "# Limpieza de los DataFrames"
   ]
  },
  {
   "cell_type": "markdown",
   "metadata": {},
   "source": [
    "Una vez hemos recabado todos los datos vamos a limpiarlos y dejarlos preparados para el próximo paso que será la creación e inserción en la base de datos."
   ]
  },
  {
   "cell_type": "markdown",
   "metadata": {},
   "source": [
    "Todos los dataframes son bastante parecidos, por lo general tienen los mismos campos a excepción del dataframe de natural by Lila al cual le falta la columna de `color` y en el dataframe de forever21 hay una columna de más que es la de `stock`. La idea es hacer una tabla general para juntar todas las marcas y hacer un estudio más global, por lo que habrá que añadir o eliminar las columnas anterioirmente mencionadas. Sin embargo, como en la tabla de forever21 la columna de stock aporta un gran valor, haremos un pequeño estudio particular de esta marca, creando una tabla únicamnte para sus vestidos."
   ]
  },
  {
   "cell_type": "code",
   "execution_count": 14,
   "metadata": {},
   "outputs": [],
   "source": [
    "import pandas as pd"
   ]
  },
  {
   "cell_type": "markdown",
   "metadata": {},
   "source": [
    "Para el dataframe de Natural by Lila añadimos la columna `color`:"
   ]
  },
  {
   "cell_type": "code",
   "execution_count": 9,
   "metadata": {},
   "outputs": [
    {
     "data": {
      "text/html": [
       "<div>\n",
       "<style scoped>\n",
       "    .dataframe tbody tr th:only-of-type {\n",
       "        vertical-align: middle;\n",
       "    }\n",
       "\n",
       "    .dataframe tbody tr th {\n",
       "        vertical-align: top;\n",
       "    }\n",
       "\n",
       "    .dataframe thead th {\n",
       "        text-align: right;\n",
       "    }\n",
       "</style>\n",
       "<table border=\"1\" class=\"dataframe\">\n",
       "  <thead>\n",
       "    <tr style=\"text-align: right;\">\n",
       "      <th></th>\n",
       "      <th>nombre</th>\n",
       "      <th>marca</th>\n",
       "      <th>precio</th>\n",
       "      <th>color</th>\n",
       "      <th>talla</th>\n",
       "      <th>categoria</th>\n",
       "    </tr>\n",
       "  </thead>\n",
       "  <tbody>\n",
       "    <tr>\n",
       "      <th>0</th>\n",
       "      <td>Mini Vestido Strapless Cascada</td>\n",
       "      <td>Natural by Lila</td>\n",
       "      <td>49.99</td>\n",
       "      <td>sin definir</td>\n",
       "      <td>S</td>\n",
       "      <td>corto</td>\n",
       "    </tr>\n",
       "    <tr>\n",
       "      <th>1</th>\n",
       "      <td>Mini Vestido Strapless Cascada</td>\n",
       "      <td>Natural by Lila</td>\n",
       "      <td>49.99</td>\n",
       "      <td>sin definir</td>\n",
       "      <td>M</td>\n",
       "      <td>corto</td>\n",
       "    </tr>\n",
       "  </tbody>\n",
       "</table>\n",
       "</div>"
      ],
      "text/plain": [
       "                           nombre            marca  precio        color talla  \\\n",
       "0  Mini Vestido Strapless Cascada  Natural by Lila   49.99  sin definir     S   \n",
       "1  Mini Vestido Strapless Cascada  Natural by Lila   49.99  sin definir     M   \n",
       "\n",
       "  categoria  \n",
       "0     corto  \n",
       "1     corto  "
      ]
     },
     "execution_count": 9,
     "metadata": {},
     "output_type": "execute_result"
    }
   ],
   "source": [
    "df_bylila = pd.read_csv(\"../datos/dataframes/df_bylila.csv\", index_col=0)\n",
    "df_bylila[\"color\"]=\"sin definir\"\n",
    "df_bylila_con_color = df_bylila.reindex(columns=['nombre', 'marca', 'precio', 'color', 'talla', 'categoria'])\n",
    "df_bylila_con_color.to_csv(\"../datos/dataframes/df_bylila_con_color.csv\")\n",
    "df_bylila_con_color.head(2)"
   ]
  },
  {
   "cell_type": "markdown",
   "metadata": {},
   "source": [
    "Para el dataframe de Forever21 creamos una versión sin la columna `stock`:"
   ]
  },
  {
   "cell_type": "code",
   "execution_count": 19,
   "metadata": {},
   "outputs": [
    {
     "data": {
      "text/html": [
       "<div>\n",
       "<style scoped>\n",
       "    .dataframe tbody tr th:only-of-type {\n",
       "        vertical-align: middle;\n",
       "    }\n",
       "\n",
       "    .dataframe tbody tr th {\n",
       "        vertical-align: top;\n",
       "    }\n",
       "\n",
       "    .dataframe thead th {\n",
       "        text-align: right;\n",
       "    }\n",
       "</style>\n",
       "<table border=\"1\" class=\"dataframe\">\n",
       "  <thead>\n",
       "    <tr style=\"text-align: right;\">\n",
       "      <th></th>\n",
       "      <th>nombre</th>\n",
       "      <th>marca</th>\n",
       "      <th>precio</th>\n",
       "      <th>color</th>\n",
       "      <th>talla</th>\n",
       "      <th>categoria</th>\n",
       "    </tr>\n",
       "  </thead>\n",
       "  <tbody>\n",
       "    <tr>\n",
       "      <th>18</th>\n",
       "      <td>sequin mini dress</td>\n",
       "      <td>Forever21</td>\n",
       "      <td>28.00</td>\n",
       "      <td>negro</td>\n",
       "      <td>M</td>\n",
       "      <td>mini</td>\n",
       "    </tr>\n",
       "    <tr>\n",
       "      <th>106</th>\n",
       "      <td>rhinestone fringe cami mini dress</td>\n",
       "      <td>Forever21</td>\n",
       "      <td>34.99</td>\n",
       "      <td>negro</td>\n",
       "      <td>XL</td>\n",
       "      <td>mini</td>\n",
       "    </tr>\n",
       "  </tbody>\n",
       "</table>\n",
       "</div>"
      ],
      "text/plain": [
       "                                nombre      marca  precio  color talla  \\\n",
       "18                   sequin mini dress  Forever21   28.00  negro     M   \n",
       "106  rhinestone fringe cami mini dress  Forever21   34.99  negro    XL   \n",
       "\n",
       "    categoria  \n",
       "18       mini  \n",
       "106      mini  "
      ]
     },
     "execution_count": 19,
     "metadata": {},
     "output_type": "execute_result"
    }
   ],
   "source": [
    "df_forever21 = pd.read_csv(\"../datos/dataframes/df_forever21.csv\", index_col=0)\n",
    "df_forever21 = df_forever21.drop(columns=\"stock\")\n",
    "df_forever21.to_csv(\"../datos/dataframes/df_forever21_sin_stock.csv\")\n",
    "df_forever21.sample(2)"
   ]
  }
 ],
 "metadata": {
  "kernelspec": {
   "display_name": "Python 3",
   "language": "python",
   "name": "python3"
  },
  "language_info": {
   "codemirror_mode": {
    "name": "ipython",
    "version": 3
   },
   "file_extension": ".py",
   "mimetype": "text/x-python",
   "name": "python",
   "nbconvert_exporter": "python",
   "pygments_lexer": "ipython3",
   "version": "3.11.9"
  }
 },
 "nbformat": 4,
 "nbformat_minor": 2
}
