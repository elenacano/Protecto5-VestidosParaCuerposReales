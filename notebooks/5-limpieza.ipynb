{
 "cells": [
  {
   "cell_type": "markdown",
   "metadata": {},
   "source": [
    "# Limpieza de los DataFrames"
   ]
  },
  {
   "cell_type": "markdown",
   "metadata": {},
   "source": [
    "Una vez hemos recabado todos los datos vamos a limpiarlos y dejarlos preparados para el próximo paso que será la creación e inserción en la base de datos."
   ]
  },
  {
   "cell_type": "markdown",
   "metadata": {},
   "source": [
    "Todos los dataframes son bastante parecidos, por lo general tienen los mismos campos a excepción del dataframe de natural by Lila al cual le falta la columna de `color` y en el dataframe de forever21 hay una columna de más que es la de `stock`. La idea es hacer una tabla general para juntar todas las marcas y hacer un estudio más global, por lo que habrá que añadir o eliminar las columnas anterioirmente mencionadas. Sin embargo, como en la tabla de forever21 la columna de stock aporta un gran valor, haremos un pequeño estudio particular de esta marca, creando una tabla únicamnte para sus vestidos."
   ]
  },
  {
   "cell_type": "code",
   "execution_count": null,
   "metadata": {},
   "outputs": [],
   "source": [
    "import pandas as pd"
   ]
  },
  {
   "cell_type": "code",
   "execution_count": null,
   "metadata": {},
   "outputs": [],
   "source": []
  }
 ],
 "metadata": {
  "kernelspec": {
   "display_name": "Python 3",
   "language": "python",
   "name": "python3"
  },
  "language_info": {
   "name": "python",
   "version": "3.11.9"
  }
 },
 "nbformat": 4,
 "nbformat_minor": 2
}
