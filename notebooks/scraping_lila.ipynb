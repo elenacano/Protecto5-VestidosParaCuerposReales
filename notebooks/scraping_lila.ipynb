{
 "cells": [
  {
   "cell_type": "markdown",
   "metadata": {},
   "source": [
    "# Scraping de Natural by Lila"
   ]
  },
  {
   "cell_type": "markdown",
   "metadata": {},
   "source": [
    "Nuestro objetivo consiste en escrapear la pagina de vestidos de natural by Lila por categorías, por lo que usaremos tanto Selenium como Beautiful Soup."
   ]
  },
  {
   "cell_type": "code",
   "execution_count": 1,
   "metadata": {},
   "outputs": [],
   "source": [
    "import sys\n",
    "import os\n",
    "import pandas as pd\n",
    "import json\n",
    "\n",
    "sys.path.append(os.path.abspath('../'))\n",
    "from src import funciones_scraping as fs"
   ]
  },
  {
   "cell_type": "code",
   "execution_count": 8,
   "metadata": {},
   "outputs": [],
   "source": [
    "lista_vestidos_cortos_largos = fs.selenium_bylila()"
   ]
  },
  {
   "cell_type": "code",
   "execution_count": 14,
   "metadata": {},
   "outputs": [],
   "source": [
    "with open(\"../datos/scraping/links_nbl.json\", \"w\") as archivo_json:\n",
    "    json.dump(lista_vestidos_cortos_largos, archivo_json)"
   ]
  },
  {
   "cell_type": "markdown",
   "metadata": {},
   "source": [
    "### Procedemos a llevar a cabo la extracción de los datos de nuestro interés."
   ]
  },
  {
   "cell_type": "code",
   "execution_count": 192,
   "metadata": {},
   "outputs": [],
   "source": [
    "dic_vestido = {\n",
    "        \"nombre\" : [],\n",
    "        \"marca\" : [],\n",
    "        \"precio\" : [],\n",
    "        \"talla\" : [],\n",
    "        \"categoria\" :[]\n",
    "        }\n",
    "i=0\n",
    "for links_vestidos in lista_vestidos_cortos_largos:\n",
    "    for url in links_vestidos:\n",
    "        res = requests.get(url)\n",
    "        if res.status_code != 200:\n",
    "            print(url)\n",
    "\n",
    "        sopa_vestido = BeautifulSoup(res.content, \"html.parser\")\n",
    "        \n",
    "        \n",
    "        nombre = sopa_vestido.find(\"span\", {\"class\":\"titulosinglegrande\"}).getText()\n",
    "        marca = \"Natural by Lila\"\n",
    "        precio = float(sopa_vestido.find(\"span\", {\"class\":\"woocommerce-Price-amount amount\"}).getText().replace(\"€\", \"\"))\n",
    "\n",
    "        # Sacamos las tallas\n",
    "        desc = sopa_vestido.find(\"div\", {\"class\":\"content-desc\"}).findAll(\"p\")[1].text.lower()\n",
    "        table = sopa_vestido.find(\"table\", {\"class\":\"variations\"})\n",
    "\n",
    "        if \"talla única\" in desc:\n",
    "            lista_tallas = [\"S\", \"M\"]\n",
    "\n",
    "        elif \"disponible en talla\" in desc:\n",
    "            tallas_disp = desc.split(\"talla \")[1:]\n",
    "            lista_tallas=[]\n",
    "            for talla in tallas_disp:\n",
    "                lista_tallas.append(talla[0].upper())\n",
    "                \n",
    "        elif len(table.findAll('tr')) > 3:\n",
    "            fila_tallas = table.findAll(\"tr\")[3]\n",
    "            tallas = fila_tallas.findAll(\"label\")\n",
    "            lista_tallas=[]\n",
    "            for talla in tallas:\n",
    "                tallas_separadas = talla.text.upper().split(\"/\")\n",
    "                lista_tallas.extend(tallas_separadas)\n",
    "                lista_tallas= list(set(lista_tallas))\n",
    "                    \n",
    "        else:\n",
    "            lista_tallas=[sopa_vestido.find(\"div\", {\"class\":\"model-info\"}).text[-1].upper()]\n",
    "\n",
    "        # Creamos los diccionarios:\n",
    "        for talla in lista_tallas:\n",
    "            dic_vestido[\"nombre\"].append(nombre)\n",
    "            dic_vestido[\"marca\"].append(marca)\n",
    "            dic_vestido[\"precio\"].append(precio)\n",
    "            dic_vestido[\"talla\"].append(talla)\n",
    "            if i == 0:\n",
    "                dic_vestido[\"categoria\"].append(\"corto\")\n",
    "            else:\n",
    "                dic_vestido[\"categoria\"].append(\"largo\")\n",
    "    i+=1\n"
   ]
  },
  {
   "cell_type": "code",
   "execution_count": 3,
   "metadata": {},
   "outputs": [],
   "source": [
    "with open(\"../datos/scraping/links_nbl.json\", \"r\") as archivo_json:\n",
    "    lista_vestidos_cortos_largos = json.load(archivo_json)"
   ]
  },
  {
   "cell_type": "code",
   "execution_count": 7,
   "metadata": {},
   "outputs": [],
   "source": [
    "dic_vestido = fs.extraccion_info(lista_vestidos_cortos_largos)"
   ]
  },
  {
   "cell_type": "code",
   "execution_count": 8,
   "metadata": {},
   "outputs": [
    {
     "data": {
      "text/html": [
       "<div>\n",
       "<style scoped>\n",
       "    .dataframe tbody tr th:only-of-type {\n",
       "        vertical-align: middle;\n",
       "    }\n",
       "\n",
       "    .dataframe tbody tr th {\n",
       "        vertical-align: top;\n",
       "    }\n",
       "\n",
       "    .dataframe thead th {\n",
       "        text-align: right;\n",
       "    }\n",
       "</style>\n",
       "<table border=\"1\" class=\"dataframe\">\n",
       "  <thead>\n",
       "    <tr style=\"text-align: right;\">\n",
       "      <th></th>\n",
       "      <th>nombre</th>\n",
       "      <th>marca</th>\n",
       "      <th>precio</th>\n",
       "      <th>talla</th>\n",
       "      <th>categoria</th>\n",
       "    </tr>\n",
       "  </thead>\n",
       "  <tbody>\n",
       "    <tr>\n",
       "      <th>0</th>\n",
       "      <td>Mini Vestido Strapless Cascada</td>\n",
       "      <td>Natural by Lila</td>\n",
       "      <td>49.99</td>\n",
       "      <td>S</td>\n",
       "      <td>corto</td>\n",
       "    </tr>\n",
       "    <tr>\n",
       "      <th>1</th>\n",
       "      <td>Mini Vestido Strapless Cascada</td>\n",
       "      <td>Natural by Lila</td>\n",
       "      <td>49.99</td>\n",
       "      <td>M</td>\n",
       "      <td>corto</td>\n",
       "    </tr>\n",
       "    <tr>\n",
       "      <th>2</th>\n",
       "      <td>Vestido Asimétrico Choker Lurex</td>\n",
       "      <td>Natural by Lila</td>\n",
       "      <td>39.99</td>\n",
       "      <td>S</td>\n",
       "      <td>corto</td>\n",
       "    </tr>\n",
       "    <tr>\n",
       "      <th>3</th>\n",
       "      <td>Vestido Asimétrico Choker Lurex</td>\n",
       "      <td>Natural by Lila</td>\n",
       "      <td>39.99</td>\n",
       "      <td>M</td>\n",
       "      <td>corto</td>\n",
       "    </tr>\n",
       "    <tr>\n",
       "      <th>4</th>\n",
       "      <td>Vestido Básico Bella</td>\n",
       "      <td>Natural by Lila</td>\n",
       "      <td>36.99</td>\n",
       "      <td>S</td>\n",
       "      <td>corto</td>\n",
       "    </tr>\n",
       "    <tr>\n",
       "      <th>...</th>\n",
       "      <td>...</td>\n",
       "      <td>...</td>\n",
       "      <td>...</td>\n",
       "      <td>...</td>\n",
       "      <td>...</td>\n",
       "    </tr>\n",
       "    <tr>\n",
       "      <th>338</th>\n",
       "      <td>Vestido Mimi</td>\n",
       "      <td>Natural by Lila</td>\n",
       "      <td>39.95</td>\n",
       "      <td>M</td>\n",
       "      <td>largo</td>\n",
       "    </tr>\n",
       "    <tr>\n",
       "      <th>339</th>\n",
       "      <td>Vestido Anudado Manga Larga</td>\n",
       "      <td>Natural by Lila</td>\n",
       "      <td>34.95</td>\n",
       "      <td>S</td>\n",
       "      <td>largo</td>\n",
       "    </tr>\n",
       "    <tr>\n",
       "      <th>340</th>\n",
       "      <td>Vestido Anudado Manga Larga</td>\n",
       "      <td>Natural by Lila</td>\n",
       "      <td>34.95</td>\n",
       "      <td>M</td>\n",
       "      <td>largo</td>\n",
       "    </tr>\n",
       "    <tr>\n",
       "      <th>341</th>\n",
       "      <td>Vestido Halter Largo</td>\n",
       "      <td>Natural by Lila</td>\n",
       "      <td>39.95</td>\n",
       "      <td>S</td>\n",
       "      <td>largo</td>\n",
       "    </tr>\n",
       "    <tr>\n",
       "      <th>342</th>\n",
       "      <td>Vestido Halter Largo</td>\n",
       "      <td>Natural by Lila</td>\n",
       "      <td>39.95</td>\n",
       "      <td>M</td>\n",
       "      <td>largo</td>\n",
       "    </tr>\n",
       "  </tbody>\n",
       "</table>\n",
       "<p>343 rows × 5 columns</p>\n",
       "</div>"
      ],
      "text/plain": [
       "                              nombre            marca  precio talla categoria\n",
       "0     Mini Vestido Strapless Cascada  Natural by Lila   49.99     S     corto\n",
       "1     Mini Vestido Strapless Cascada  Natural by Lila   49.99     M     corto\n",
       "2    Vestido Asimétrico Choker Lurex  Natural by Lila   39.99     S     corto\n",
       "3    Vestido Asimétrico Choker Lurex  Natural by Lila   39.99     M     corto\n",
       "4               Vestido Básico Bella  Natural by Lila   36.99     S     corto\n",
       "..                               ...              ...     ...   ...       ...\n",
       "338                     Vestido Mimi  Natural by Lila   39.95     M     largo\n",
       "339      Vestido Anudado Manga Larga  Natural by Lila   34.95     S     largo\n",
       "340      Vestido Anudado Manga Larga  Natural by Lila   34.95     M     largo\n",
       "341             Vestido Halter Largo  Natural by Lila   39.95     S     largo\n",
       "342             Vestido Halter Largo  Natural by Lila   39.95     M     largo\n",
       "\n",
       "[343 rows x 5 columns]"
      ]
     },
     "execution_count": 8,
     "metadata": {},
     "output_type": "execute_result"
    }
   ],
   "source": [
    "df_vestidos_mbl = pd.DataFrame(dic_vestido)\n",
    "df_vestidos_mbl"
   ]
  },
  {
   "cell_type": "code",
   "execution_count": null,
   "metadata": {},
   "outputs": [],
   "source": []
  },
  {
   "cell_type": "code",
   "execution_count": null,
   "metadata": {},
   "outputs": [],
   "source": []
  },
  {
   "cell_type": "code",
   "execution_count": null,
   "metadata": {},
   "outputs": [],
   "source": []
  },
  {
   "cell_type": "code",
   "execution_count": 132,
   "metadata": {},
   "outputs": [
    {
     "data": {
      "text/plain": [
       "(84, 5)"
      ]
     },
     "execution_count": 132,
     "metadata": {},
     "output_type": "execute_result"
    }
   ],
   "source": [
    "df_cortos_mbl.shape"
   ]
  },
  {
   "cell_type": "code",
   "execution_count": null,
   "metadata": {},
   "outputs": [
    {
     "name": "stdout",
     "output_type": "stream",
     "text": [
      "https://naturalbylila.com/vestido-largo-lurex-asimetrico/\n",
      "https://naturalbylila.com/vestido-cutout-drapeado-lurex/\n",
      "https://naturalbylila.com/vestido-midi-cenido-leopardo/\n",
      "https://naturalbylila.com/vestido-boho-pedreria/\n",
      "https://naturalbylila.com/vestido-largo-cascada-lurex/\n",
      "https://naturalbylila.com/vestido-espalda-cruzada/\n",
      "https://naturalbylila.com/vestido-bertha/\n"
     ]
    }
   ],
   "source": [
    "# i=1\n",
    "# dic_vestido = {\n",
    "#         \"nombre\" : [],\n",
    "#         \"marca\" : [],\n",
    "#         \"precio\" : [],\n",
    "#         \"talla\" : [],\n",
    "#         \"categoria\" :[]\n",
    "#         }\n",
    "\n",
    "# for url in links_vestidos_largos:\n",
    "#     res = requests.get(url)\n",
    "#     if res.status_code != 200:\n",
    "#         print(url)\n",
    "\n",
    "#     sopa_vestido = BeautifulSoup(res.content, \"html.parser\")\n",
    "    \n",
    "    \n",
    "#     nombre = sopa_vestido.find(\"span\", {\"class\":\"titulosinglegrande\"}).getText()\n",
    "#     marca = \"Natural by Lila\"\n",
    "#     precio = float(sopa_vestido.find(\"span\", {\"class\":\"woocommerce-Price-amount amount\"}).getText().replace(\"€\", \"\"))\n",
    "\n",
    "#     # Sacamos las tallas\n",
    "#     desc = sopa_vestido.find(\"div\", {\"class\":\"content-desc\"}).findAll(\"p\")[1].text.lower()\n",
    "#     table = sopa_vestido.find(\"table\", {\"class\":\"variations\"})\n",
    "\n",
    "#     if \"talla única\" in desc:\n",
    "#         lista_tallas = [\"S\", \"M\"]\n",
    "\n",
    "#     elif \"disponible en talla\" in desc:\n",
    "#         tallas_disp = desc.split(\"talla \")[1:]\n",
    "#         lista_tallas=[]\n",
    "#         for talla in tallas_disp:\n",
    "#             lista_tallas.append(talla[0].upper())\n",
    "\n",
    "#     elif len(table.findAll('tr')) > 3:\n",
    "#         fila_tallas = table.findAll(\"tr\")[3]\n",
    "#         tallas = fila_tallas.findAll(\"label\")\n",
    "#         lista_tallas=[]\n",
    "#         for talla in tallas:\n",
    "#             tallas_separadas = talla.text.upper().split(\"/\")\n",
    "#             lista_tallas.extend(tallas_separadas)\n",
    "#             lista_tallas= list(set(lista_tallas))\n",
    "    \n",
    "#     else:\n",
    "#         lista_tallas=[sopa_vestido.find(\"div\", {\"class\":\"model-info\"}).text[-1].upper()]\n",
    "\n",
    "#     # Creamos los diccionarios:\n",
    "#     for talla in lista_tallas:\n",
    "#         dic_vestido[\"nombre\"].append(nombre)\n",
    "#         dic_vestido[\"marca\"].append(marca)\n",
    "#         dic_vestido[\"precio\"].append(precio)\n",
    "#         dic_vestido[\"talla\"].append(talla)\n",
    "#         if i == 0:\n",
    "#             dic_vestido[\"categoria\"].append(\"corto\")\n",
    "#         else:\n",
    "#             dic_vestido[\"categoria\"].append(\"largo\")"
   ]
  },
  {
   "cell_type": "code",
   "execution_count": 181,
   "metadata": {},
   "outputs": [
    {
     "data": {
      "text/plain": [
       "128"
      ]
     },
     "execution_count": 181,
     "metadata": {},
     "output_type": "execute_result"
    }
   ],
   "source": [
    "len(links_vestidos_largos)"
   ]
  },
  {
   "cell_type": "code",
   "execution_count": 186,
   "metadata": {},
   "outputs": [
    {
     "data": {
      "text/plain": [
       "talla\n",
       "S     128\n",
       "M     121\n",
       "L       9\n",
       "XS      1\n",
       "Name: count, dtype: int64"
      ]
     },
     "execution_count": 186,
     "metadata": {},
     "output_type": "execute_result"
    }
   ],
   "source": [
    "df_largos_mbl = pd.DataFrame(dic_vestido)\n",
    "df_largos_mbl[\"talla\"].value_counts()"
   ]
  },
  {
   "cell_type": "code",
   "execution_count": 191,
   "metadata": {},
   "outputs": [
    {
     "data": {
      "text/plain": [
       "(84, 5)"
      ]
     },
     "execution_count": 191,
     "metadata": {},
     "output_type": "execute_result"
    }
   ],
   "source": [
    "df_cortos_mbl.shape"
   ]
  },
  {
   "cell_type": "code",
   "execution_count": 196,
   "metadata": {},
   "outputs": [
    {
     "data": {
      "text/plain": [
       "np.int64(0)"
      ]
     },
     "execution_count": 196,
     "metadata": {},
     "output_type": "execute_result"
    }
   ],
   "source": [
    "df_vestidos_mbl[\"talla\"].isna().sum()"
   ]
  },
  {
   "cell_type": "code",
   "execution_count": 197,
   "metadata": {},
   "outputs": [
    {
     "data": {
      "text/html": [
       "<div>\n",
       "<style scoped>\n",
       "    .dataframe tbody tr th:only-of-type {\n",
       "        vertical-align: middle;\n",
       "    }\n",
       "\n",
       "    .dataframe tbody tr th {\n",
       "        vertical-align: top;\n",
       "    }\n",
       "\n",
       "    .dataframe thead th {\n",
       "        text-align: right;\n",
       "    }\n",
       "</style>\n",
       "<table border=\"1\" class=\"dataframe\">\n",
       "  <thead>\n",
       "    <tr style=\"text-align: right;\">\n",
       "      <th></th>\n",
       "      <th>nombre</th>\n",
       "      <th>marca</th>\n",
       "      <th>precio</th>\n",
       "      <th>talla</th>\n",
       "      <th>categoria</th>\n",
       "    </tr>\n",
       "  </thead>\n",
       "  <tbody>\n",
       "    <tr>\n",
       "      <th>0</th>\n",
       "      <td>Mini Vestido Strapless Cascada</td>\n",
       "      <td>Natural by Lila</td>\n",
       "      <td>49.99</td>\n",
       "      <td>S</td>\n",
       "      <td>corto</td>\n",
       "    </tr>\n",
       "    <tr>\n",
       "      <th>1</th>\n",
       "      <td>Mini Vestido Strapless Cascada</td>\n",
       "      <td>Natural by Lila</td>\n",
       "      <td>49.99</td>\n",
       "      <td>M</td>\n",
       "      <td>corto</td>\n",
       "    </tr>\n",
       "    <tr>\n",
       "      <th>2</th>\n",
       "      <td>Vestido Asimétrico Choker Lurex</td>\n",
       "      <td>Natural by Lila</td>\n",
       "      <td>39.99</td>\n",
       "      <td>S</td>\n",
       "      <td>corto</td>\n",
       "    </tr>\n",
       "    <tr>\n",
       "      <th>3</th>\n",
       "      <td>Vestido Asimétrico Choker Lurex</td>\n",
       "      <td>Natural by Lila</td>\n",
       "      <td>39.99</td>\n",
       "      <td>M</td>\n",
       "      <td>corto</td>\n",
       "    </tr>\n",
       "    <tr>\n",
       "      <th>4</th>\n",
       "      <td>Vestido Básico Bella</td>\n",
       "      <td>Natural by Lila</td>\n",
       "      <td>36.99</td>\n",
       "      <td>S</td>\n",
       "      <td>corto</td>\n",
       "    </tr>\n",
       "    <tr>\n",
       "      <th>...</th>\n",
       "      <td>...</td>\n",
       "      <td>...</td>\n",
       "      <td>...</td>\n",
       "      <td>...</td>\n",
       "      <td>...</td>\n",
       "    </tr>\n",
       "    <tr>\n",
       "      <th>338</th>\n",
       "      <td>Vestido Mimi</td>\n",
       "      <td>Natural by Lila</td>\n",
       "      <td>39.95</td>\n",
       "      <td>M</td>\n",
       "      <td>largo</td>\n",
       "    </tr>\n",
       "    <tr>\n",
       "      <th>339</th>\n",
       "      <td>Vestido Anudado Manga Larga</td>\n",
       "      <td>Natural by Lila</td>\n",
       "      <td>34.95</td>\n",
       "      <td>S</td>\n",
       "      <td>largo</td>\n",
       "    </tr>\n",
       "    <tr>\n",
       "      <th>340</th>\n",
       "      <td>Vestido Anudado Manga Larga</td>\n",
       "      <td>Natural by Lila</td>\n",
       "      <td>34.95</td>\n",
       "      <td>M</td>\n",
       "      <td>largo</td>\n",
       "    </tr>\n",
       "    <tr>\n",
       "      <th>341</th>\n",
       "      <td>Vestido Halter Largo</td>\n",
       "      <td>Natural by Lila</td>\n",
       "      <td>39.95</td>\n",
       "      <td>S</td>\n",
       "      <td>largo</td>\n",
       "    </tr>\n",
       "    <tr>\n",
       "      <th>342</th>\n",
       "      <td>Vestido Halter Largo</td>\n",
       "      <td>Natural by Lila</td>\n",
       "      <td>39.95</td>\n",
       "      <td>M</td>\n",
       "      <td>largo</td>\n",
       "    </tr>\n",
       "  </tbody>\n",
       "</table>\n",
       "<p>343 rows × 5 columns</p>\n",
       "</div>"
      ],
      "text/plain": [
       "                              nombre            marca  precio talla categoria\n",
       "0     Mini Vestido Strapless Cascada  Natural by Lila   49.99     S     corto\n",
       "1     Mini Vestido Strapless Cascada  Natural by Lila   49.99     M     corto\n",
       "2    Vestido Asimétrico Choker Lurex  Natural by Lila   39.99     S     corto\n",
       "3    Vestido Asimétrico Choker Lurex  Natural by Lila   39.99     M     corto\n",
       "4               Vestido Básico Bella  Natural by Lila   36.99     S     corto\n",
       "..                               ...              ...     ...   ...       ...\n",
       "338                     Vestido Mimi  Natural by Lila   39.95     M     largo\n",
       "339      Vestido Anudado Manga Larga  Natural by Lila   34.95     S     largo\n",
       "340      Vestido Anudado Manga Larga  Natural by Lila   34.95     M     largo\n",
       "341             Vestido Halter Largo  Natural by Lila   39.95     S     largo\n",
       "342             Vestido Halter Largo  Natural by Lila   39.95     M     largo\n",
       "\n",
       "[343 rows x 5 columns]"
      ]
     },
     "execution_count": 197,
     "metadata": {},
     "output_type": "execute_result"
    }
   ],
   "source": [
    "df_vestidos_mbl"
   ]
  },
  {
   "cell_type": "code",
   "execution_count": null,
   "metadata": {},
   "outputs": [],
   "source": []
  }
 ],
 "metadata": {
  "kernelspec": {
   "display_name": "Python 3",
   "language": "python",
   "name": "python3"
  },
  "language_info": {
   "codemirror_mode": {
    "name": "ipython",
    "version": 3
   },
   "file_extension": ".py",
   "mimetype": "text/x-python",
   "name": "python",
   "nbconvert_exporter": "python",
   "pygments_lexer": "ipython3",
   "version": "3.11.9"
  }
 },
 "nbformat": 4,
 "nbformat_minor": 2
}
