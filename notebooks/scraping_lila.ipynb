{
 "cells": [
  {
   "cell_type": "markdown",
   "metadata": {},
   "source": [
    "# Scraping de Natural by Lila"
   ]
  },
  {
   "cell_type": "markdown",
   "metadata": {},
   "source": [
    "Nuestro objetivo consiste en escrapear la pagina de vestidos de natural by Lila por categorías, por lo que usaremos tanto Selenium como Beautiful Soup."
   ]
  },
  {
   "cell_type": "code",
   "execution_count": 1,
   "metadata": {},
   "outputs": [],
   "source": [
    "import sys\n",
    "import os\n",
    "import pandas as pd\n",
    "import json\n",
    "\n",
    "sys.path.append(os.path.abspath('../'))\n",
    "from src import funciones_scraping as fs"
   ]
  },
  {
   "cell_type": "code",
   "execution_count": 8,
   "metadata": {},
   "outputs": [],
   "source": [
    "lista_vestidos_cortos_largos = fs.selenium_bylila()"
   ]
  },
  {
   "cell_type": "code",
   "execution_count": 14,
   "metadata": {},
   "outputs": [],
   "source": [
    "with open(\"../datos/scraping/links_nbl.json\", \"w\") as archivo_json:\n",
    "    json.dump(lista_vestidos_cortos_largos, archivo_json)"
   ]
  },
  {
   "cell_type": "markdown",
   "metadata": {},
   "source": [
    "### Procedemos a llevar a cabo la extracción de los datos de nuestro interés."
   ]
  },
  {
   "cell_type": "code",
   "execution_count": 3,
   "metadata": {},
   "outputs": [],
   "source": [
    "with open(\"../datos/scraping/links_nbl.json\", \"r\") as archivo_json:\n",
    "    lista_vestidos_cortos_largos = json.load(archivo_json)"
   ]
  },
  {
   "cell_type": "code",
   "execution_count": 7,
   "metadata": {},
   "outputs": [],
   "source": [
    "dic_vestido = fs.extraccion_info(lista_vestidos_cortos_largos)"
   ]
  },
  {
   "cell_type": "code",
   "execution_count": 13,
   "metadata": {},
   "outputs": [],
   "source": [
    "df_vestidos_mbl = pd.DataFrame(dic_vestido)"
   ]
  },
  {
   "cell_type": "markdown",
   "metadata": {},
   "source": [
    "En el caso de esta tiendo como no se puede estudiar la disponibilidad ni el stock por prendas de distintos colores, la columna de color no estará presenta en este dataframe ya que no aporta ningún valor."
   ]
  },
  {
   "cell_type": "markdown",
   "metadata": {},
   "source": [
    "Una vez comprobado que no hay duplicados ni nulos almacenamos el dataframe."
   ]
  },
  {
   "cell_type": "code",
   "execution_count": 11,
   "metadata": {},
   "outputs": [],
   "source": [
    "df_vestidos_mbl.to_csv(\"../datos/dataframes/df_bylila.csv\")"
   ]
  },
  {
   "cell_type": "code",
   "execution_count": 12,
   "metadata": {},
   "outputs": [
    {
     "data": {
      "text/html": [
       "<div>\n",
       "<style scoped>\n",
       "    .dataframe tbody tr th:only-of-type {\n",
       "        vertical-align: middle;\n",
       "    }\n",
       "\n",
       "    .dataframe tbody tr th {\n",
       "        vertical-align: top;\n",
       "    }\n",
       "\n",
       "    .dataframe thead th {\n",
       "        text-align: right;\n",
       "    }\n",
       "</style>\n",
       "<table border=\"1\" class=\"dataframe\">\n",
       "  <thead>\n",
       "    <tr style=\"text-align: right;\">\n",
       "      <th></th>\n",
       "      <th>nombre</th>\n",
       "      <th>marca</th>\n",
       "      <th>precio</th>\n",
       "      <th>talla</th>\n",
       "      <th>categoria</th>\n",
       "    </tr>\n",
       "  </thead>\n",
       "  <tbody>\n",
       "    <tr>\n",
       "      <th>0</th>\n",
       "      <td>Mini Vestido Strapless Cascada</td>\n",
       "      <td>Natural by Lila</td>\n",
       "      <td>49.99</td>\n",
       "      <td>S</td>\n",
       "      <td>corto</td>\n",
       "    </tr>\n",
       "    <tr>\n",
       "      <th>1</th>\n",
       "      <td>Mini Vestido Strapless Cascada</td>\n",
       "      <td>Natural by Lila</td>\n",
       "      <td>49.99</td>\n",
       "      <td>M</td>\n",
       "      <td>corto</td>\n",
       "    </tr>\n",
       "    <tr>\n",
       "      <th>2</th>\n",
       "      <td>Vestido Asimétrico Choker Lurex</td>\n",
       "      <td>Natural by Lila</td>\n",
       "      <td>39.99</td>\n",
       "      <td>S</td>\n",
       "      <td>corto</td>\n",
       "    </tr>\n",
       "  </tbody>\n",
       "</table>\n",
       "</div>"
      ],
      "text/plain": [
       "                            nombre            marca  precio talla categoria\n",
       "0   Mini Vestido Strapless Cascada  Natural by Lila   49.99     S     corto\n",
       "1   Mini Vestido Strapless Cascada  Natural by Lila   49.99     M     corto\n",
       "2  Vestido Asimétrico Choker Lurex  Natural by Lila   39.99     S     corto"
      ]
     },
     "execution_count": 12,
     "metadata": {},
     "output_type": "execute_result"
    }
   ],
   "source": [
    "df_vestidos_mbl.head(3)"
   ]
  }
 ],
 "metadata": {
  "kernelspec": {
   "display_name": "Python 3",
   "language": "python",
   "name": "python3"
  },
  "language_info": {
   "codemirror_mode": {
    "name": "ipython",
    "version": 3
   },
   "file_extension": ".py",
   "mimetype": "text/x-python",
   "name": "python",
   "nbconvert_exporter": "python",
   "pygments_lexer": "ipython3",
   "version": "3.11.9"
  }
 },
 "nbformat": 4,
 "nbformat_minor": 2
}
