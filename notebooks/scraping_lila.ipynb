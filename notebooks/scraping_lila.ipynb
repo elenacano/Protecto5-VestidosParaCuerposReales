{
 "cells": [
  {
   "cell_type": "markdown",
   "metadata": {},
   "source": [
    "# Scraping de Natural by Lila"
   ]
  },
  {
   "cell_type": "markdown",
   "metadata": {},
   "source": [
    "Nuestro objetivo consiste en escrapear la pagina de vestidos de natural by Lila por categorías, por lo que usaremos tanto Selenium como Beautiful Soup."
   ]
  },
  {
   "cell_type": "code",
   "execution_count": 2,
   "metadata": {},
   "outputs": [],
   "source": [
    "from selenium.webdriver.support.ui import WebDriverWait\n",
    "from selenium.webdriver.common.action_chains import ActionChains\n",
    "from selenium.webdriver.common.by import By\n",
    "from selenium.webdriver.support import expected_conditions as EC\n",
    "from time import sleep\n",
    "# Selenium para establecer la configuración del driver\n",
    "# -----------------------------------------------------------------------\n",
    "from selenium import webdriver"
   ]
  },
  {
   "cell_type": "code",
   "execution_count": 43,
   "metadata": {},
   "outputs": [],
   "source": [
    "lista_url = [\"https://naturalbylila.com/ropa/vestidos/?product-cat=vestidos-cortos\", \"https://naturalbylila.com/ropa/vestidos/?product-cat=vestidos-largos\"]\n",
    "\n",
    "for url in lista_url:\n",
    "    largura = url.split(\"-\")[-1]\n",
    "    chrome_options = webdriver.ChromeOptions()\n",
    "    driver = webdriver.Chrome()\n",
    "    driver.get(url)\n",
    "    driver.maximize_window()\n",
    "    sleep(1)\n",
    "\n",
    "\n",
    "    driver.find_element(\"css selector\", \"#wrapper > div.page-wrapper-inner > div > div.term-description > div\").click()\n",
    "    sleep(5)\n",
    "    #Cerramos el anuncio del black friday\n",
    "    driver.find_element(\"css selector\", \"body > div.cn_content_backdrop-d09b5257-14c2-48d5-b8a8-4f63527664a6 > div > div.cn_content_close-d09b5257-14c2-48d5-b8a8-4f63527664a6 > a\").click()\n",
    "    sleep(1)\n",
    "    # Aceptamos las cookies\n",
    "    driver.find_element(\"css selector\", \"#CybotCookiebotDialogBodyLevelButtonLevelOptinAllowAll\").click()\n",
    "    sleep(1)\n",
    "    #Cargamos toda la página\n",
    "    driver.execute_script(\"window.scrollTo(0, 50000);\")\n",
    "    sleep(1)\n",
    "    driver.execute_script(\"window.scrollTo(0, 50000);\")\n",
    "\n",
    "    # Obtenemos los links de los productos de la página\n",
    "    sleep(1)\n",
    "    marco_productos = driver.find_element(\"css selector\", \"#shop-products > div.row > div > div.wcapf-before-products > ul\")\n",
    "    sleep(1)\n",
    "    productos = marco_productos.find_elements(By.CSS_SELECTOR, \"div.product-title a.product-link\")\n",
    "\n",
    "    globals()[f'links_bylila_{largura}']=[]\n",
    "    for producto in productos:\n",
    "        globals()[f'links_bylila_{largura}'].append(producto.get_attribute(\"href\"))\n",
    "\n",
    "    driver.quit()"
   ]
  },
  {
   "cell_type": "code",
   "execution_count": 44,
   "metadata": {},
   "outputs": [
    {
     "data": {
      "text/plain": [
       "43"
      ]
     },
     "execution_count": 44,
     "metadata": {},
     "output_type": "execute_result"
    }
   ],
   "source": [
    "len(links_bylila_cortos)"
   ]
  },
  {
   "cell_type": "code",
   "execution_count": 45,
   "metadata": {},
   "outputs": [
    {
     "data": {
      "text/plain": [
       "128"
      ]
     },
     "execution_count": 45,
     "metadata": {},
     "output_type": "execute_result"
    }
   ],
   "source": [
    "len(links_bylila_largos)"
   ]
  }
 ],
 "metadata": {
  "kernelspec": {
   "display_name": "Python 3",
   "language": "python",
   "name": "python3"
  },
  "language_info": {
   "codemirror_mode": {
    "name": "ipython",
    "version": 3
   },
   "file_extension": ".py",
   "mimetype": "text/x-python",
   "name": "python",
   "nbconvert_exporter": "python",
   "pygments_lexer": "ipython3",
   "version": "3.11.9"
  }
 },
 "nbformat": 4,
 "nbformat_minor": 2
}
