{
 "cells": [
  {
   "cell_type": "markdown",
   "metadata": {},
   "source": [
    "# Scraping de Natural by Lila"
   ]
  },
  {
   "cell_type": "markdown",
   "metadata": {},
   "source": [
    "Nuestro objetivo consiste en escrapear la pagina de vestidos de natural by Lila por categorías, por lo que usaremos tanto Selenium como Beautiful Soup."
   ]
  },
  {
   "cell_type": "code",
   "execution_count": 1,
   "metadata": {},
   "outputs": [],
   "source": [
    "from selenium.webdriver.support.ui import WebDriverWait\n",
    "from selenium.webdriver.common.action_chains import ActionChains\n",
    "from selenium.webdriver.common.by import By\n",
    "from selenium.webdriver.support import expected_conditions as EC\n",
    "from time import sleep\n",
    "# Selenium para establecer la configuración del driver\n",
    "# -----------------------------------------------------------------------\n",
    "from selenium import webdriver\n",
    "\n",
    "import sys\n",
    "import os\n",
    "sys.path.append(os.path.abspath('../'))\n",
    "from src import funciones_scraping as fs"
   ]
  },
  {
   "cell_type": "code",
   "execution_count": 54,
   "metadata": {},
   "outputs": [],
   "source": [
    "lista_url = [\"https://naturalbylila.com/ropa/vestidos/?product-cat=vestidos-cortos\", \"https://naturalbylila.com/ropa/vestidos/?product-cat=vestidos-largos\"]\n",
    "\n",
    "lista_vestidos_cortos_largos = []\n",
    "\n",
    "for url in lista_url:\n",
    "    largura = url.split(\"-\")[-1]\n",
    "    chrome_options = webdriver.ChromeOptions()\n",
    "    driver = webdriver.Chrome()\n",
    "    driver.get(url)\n",
    "    driver.maximize_window()\n",
    "    sleep(1)\n",
    "\n",
    "\n",
    "    driver.find_element(\"css selector\", \"#wrapper > div.page-wrapper-inner > div > div.term-description > div\").click()\n",
    "    sleep(5)\n",
    "    #Cerramos el anuncio del black friday\n",
    "    driver.find_element(\"css selector\", \"body > div.cn_content_backdrop-d09b5257-14c2-48d5-b8a8-4f63527664a6 > div > div.cn_content_close-d09b5257-14c2-48d5-b8a8-4f63527664a6 > a\").click()\n",
    "    sleep(1)\n",
    "    # Aceptamos las cookies\n",
    "    driver.find_element(\"css selector\", \"#CybotCookiebotDialogBodyLevelButtonLevelOptinAllowAll\").click()\n",
    "    sleep(1)\n",
    "    #Cargamos toda la página\n",
    "    driver.execute_script(\"window.scrollTo(0, 50000);\")\n",
    "    sleep(1)\n",
    "    driver.execute_script(\"window.scrollTo(0, 50000);\")\n",
    "\n",
    "    # Obtenemos los links de los productos de la página\n",
    "    sleep(1)\n",
    "    marco_productos = driver.find_element(\"css selector\", \"#shop-products > div.row > div > div.wcapf-before-products > ul\")\n",
    "    sleep(1)\n",
    "    productos = marco_productos.find_elements(By.CSS_SELECTOR, \"div.product-title a.product-link\")\n",
    "\n",
    "    lista_links=[]\n",
    "    for producto in productos:\n",
    "        lista_links.append(producto.get_attribute(\"href\"))\n",
    "    \n",
    "    lista_vestidos_cortos_largos.append(lista_links)\n",
    "\n",
    "    driver.quit()"
   ]
  },
  {
   "cell_type": "code",
   "execution_count": 55,
   "metadata": {},
   "outputs": [
    {
     "data": {
      "text/plain": [
       "43"
      ]
     },
     "execution_count": 55,
     "metadata": {},
     "output_type": "execute_result"
    }
   ],
   "source": [
    "len(links_bylila_cortos)"
   ]
  },
  {
   "cell_type": "code",
   "execution_count": 48,
   "metadata": {},
   "outputs": [
    {
     "data": {
      "text/plain": [
       "128"
      ]
     },
     "execution_count": 48,
     "metadata": {},
     "output_type": "execute_result"
    }
   ],
   "source": [
    "len(links_bylila_largos)"
   ]
  },
  {
   "cell_type": "code",
   "execution_count": 5,
   "metadata": {},
   "outputs": [
    {
     "ename": "TypeError",
     "evalue": "object of type 'NoneType' has no len()",
     "output_type": "error",
     "traceback": [
      "\u001b[1;31m---------------------------------------------------------------------------\u001b[0m",
      "\u001b[1;31mTypeError\u001b[0m                                 Traceback (most recent call last)",
      "Cell \u001b[1;32mIn[5], line 1\u001b[0m\n\u001b[1;32m----> 1\u001b[0m \u001b[38;5;28;43mlen\u001b[39;49m\u001b[43m(\u001b[49m\u001b[43mlista_vestidos_cortos_largos\u001b[49m\u001b[43m)\u001b[49m\n",
      "\u001b[1;31mTypeError\u001b[0m: object of type 'NoneType' has no len()"
     ]
    }
   ],
   "source": [
    "len(lista_vestidos_cortos_largos)"
   ]
  },
  {
   "cell_type": "code",
   "execution_count": 2,
   "metadata": {},
   "outputs": [],
   "source": [
    "lista_vestidos_cortos_largos = fs.selenium_bylila()"
   ]
  },
  {
   "cell_type": "code",
   "execution_count": 5,
   "metadata": {},
   "outputs": [
    {
     "data": {
      "text/plain": [
       "128"
      ]
     },
     "execution_count": 5,
     "metadata": {},
     "output_type": "execute_result"
    }
   ],
   "source": [
    "len(lista_vestidos_cortos_largos[1])"
   ]
  },
  {
   "cell_type": "code",
   "execution_count": null,
   "metadata": {},
   "outputs": [],
   "source": []
  }
 ],
 "metadata": {
  "kernelspec": {
   "display_name": "Python 3",
   "language": "python",
   "name": "python3"
  },
  "language_info": {
   "codemirror_mode": {
    "name": "ipython",
    "version": 3
   },
   "file_extension": ".py",
   "mimetype": "text/x-python",
   "name": "python",
   "nbconvert_exporter": "python",
   "pygments_lexer": "ipython3",
   "version": "3.11.9"
  }
 },
 "nbformat": 4,
 "nbformat_minor": 2
}
