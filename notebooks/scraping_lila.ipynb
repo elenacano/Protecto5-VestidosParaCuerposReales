{
 "cells": [
  {
   "cell_type": "markdown",
   "metadata": {},
   "source": [
    "# Scraping de Natural by Lila"
   ]
  },
  {
   "cell_type": "markdown",
   "metadata": {},
   "source": [
    "Nuestro objetivo consiste en escrapear la pagina de vestidos de natural by Lila por categorías, por lo que usaremos tanto Selenium como Beautiful Soup."
   ]
  },
  {
   "cell_type": "code",
   "execution_count": 2,
   "metadata": {},
   "outputs": [],
   "source": [
    "from selenium.webdriver.support.ui import WebDriverWait\n",
    "from selenium.webdriver.common.action_chains import ActionChains\n",
    "from selenium.webdriver.common.by import By\n",
    "from selenium.webdriver.support import expected_conditions as EC\n",
    "from time import sleep\n",
    "# Selenium para establecer la configuración del driver\n",
    "# -----------------------------------------------------------------------\n",
    "from selenium import webdriver"
   ]
  },
  {
   "cell_type": "code",
   "execution_count": null,
   "metadata": {},
   "outputs": [],
   "source": [
    "lista_url = [\"https://naturalbylila.com/ropa/vestidos/?product-cat=vestidos-cortos\", \"https://naturalbylila.com/ropa/vestidos/?product-cat=vestidos-largos\"]\n",
    "url = \"https://naturalbylila.com/ropa/vestidos/?product-cat=vestidos-cortos\"\n",
    "\n",
    "# lo primero que vamos a hacer es configurar nuestras preferencias del navegador para el driver\n",
    "chrome_options = webdriver.ChromeOptions()\n",
    "driver = webdriver.Chrome()\n",
    "driver.get(url)\n",
    "driver.maximize_window()\n",
    "sleep(1)\n",
    "\n",
    "\n",
    "driver.find_element(\"css selector\", \"#wrapper > div.page-wrapper-inner > div > div.term-description > div\").click()\n",
    "sleep(5)\n",
    "#Cerramos el anuncio del black friday\n",
    "driver.find_element(\"css selector\", \"body > div.cn_content_backdrop-d09b5257-14c2-48d5-b8a8-4f63527664a6 > div > div.cn_content_close-d09b5257-14c2-48d5-b8a8-4f63527664a6 > a\").click()\n",
    "sleep(1)\n",
    "driver.find_element(\"css selector\", \"#CybotCookiebotDialogBodyLevelButtonLevelOptinAllowAll\").click()\n",
    "sleep(1)\n",
    "driver.execute_script(\"window.scrollTo(0, 50000);\")\n",
    "sleep(1)\n",
    "driver.execute_script(\"window.scrollTo(0, 50000);\")\n",
    "\n",
    "\n",
    "marco_productos = driver.find_element(\"css selector\", \"#shop-products > div.row > div > div.wcapf-before-products > ul\")\n",
    "productos = marco_productos.find_elements(By.CSS_SELECTOR, \"div.product-title a.product-link\")\n",
    "\n",
    "lista_links=[]\n",
    "for producto in productos:\n",
    "    lista_links.append(producto.get_attribute(\"href\"))\n",
    "\n",
    "driver.quit()\n",
    "\n",
    "\n",
    "\n",
    "# driver.find_element(\"css selector\", \"#tipoMicrodatos > option:nth-child(7)\").click()\n",
    "\n",
    "# sleep(2)\n",
    "# anios_padre = driver.find_elements(\"css selector\", \"#anioMicrodatos\")\n",
    "# anios_hijos = anios_padre[0].find_elements(\"tag name\", \"option\")\n",
    "\n",
    "\n",
    "# for i in range(2, len(anios_hijos)+1):\n",
    "#     driver.find_element(\"css selector\", f\"#anioMicrodatos > option:nth-child({i})\").click()\n",
    "#     sleep(1)\n",
    "#     driver.find_element(\"css selector\", \"#wrapper > div.page-wrapper-inner > div > div.term-description > div\").click()\n",
    "#     sleep(1)\n",
    "#     driver.find_element(By.PARTIAL_LINK_TEXT, \".zip\").click()\n",
    "#     sleep(1)\n",
    "#     driver.back()    \n",
    "    "
   ]
  },
  {
   "cell_type": "code",
   "execution_count": 31,
   "metadata": {},
   "outputs": [
    {
     "data": {
      "text/plain": [
       "['https://naturalbylila.com/mini-vestido-strapless-cascada/',\n",
       " 'https://naturalbylila.com/vestido-asimetrico-choker-lurex/',\n",
       " 'https://naturalbylila.com/vestido-basico-bella/',\n",
       " 'https://naturalbylila.com/vestido-brigitte-lentejuelas/',\n",
       " 'https://naturalbylila.com/vestido-corto-balconette/',\n",
       " 'https://naturalbylila.com/vestido-mini-halter-vera/',\n",
       " 'https://naturalbylila.com/vestido-tirantes-escote-asimetrico/',\n",
       " 'https://naturalbylila.com/vestido-corto-hombros-cutout/',\n",
       " 'https://naturalbylila.com/vestido-olivia/',\n",
       " 'https://naturalbylila.com/vestido-silvy/',\n",
       " 'https://naturalbylila.com/vestido-corto-estampado-hombreras/',\n",
       " 'https://naturalbylila.com/vestido-evase-olas/',\n",
       " 'https://naturalbylila.com/vestido-fluido-leopardo/',\n",
       " 'https://naturalbylila.com/vestido-punto-canale-bardot/',\n",
       " 'https://naturalbylila.com/vestido-corto-halter-etnico/',\n",
       " 'https://naturalbylila.com/vestido-monroe-raso/',\n",
       " 'https://naturalbylila.com/vestido-asimetrico-lurex/',\n",
       " 'https://naturalbylila.com/vestido-marilyn/',\n",
       " 'https://naturalbylila.com/vestido-mini-cascada-glitter/',\n",
       " 'https://naturalbylila.com/vestido-asimetrico-glitter-choker/',\n",
       " 'https://naturalbylila.com/vestido-bardot-glitter/',\n",
       " 'https://naturalbylila.com/vestido-choker-velvet-corto/',\n",
       " 'https://naturalbylila.com/vestido-evase-lazo/',\n",
       " 'https://naturalbylila.com/vestido-glitter-choker-cascada/',\n",
       " 'https://naturalbylila.com/vestido-tulle-topos-con-manguitos/',\n",
       " 'https://naturalbylila.com/vestido-lentejuelas-alas/',\n",
       " 'https://naturalbylila.com/vestido-glitter-halter-sweet/',\n",
       " 'https://naturalbylila.com/vestido-glitter-diva/',\n",
       " 'https://naturalbylila.com/vestido-asimetrico-lentejuelas/',\n",
       " 'https://naturalbylila.com/vestido-abierto-manga-larga/',\n",
       " 'https://naturalbylila.com/vestido-asimetrico-cutout-velvet-purpurina/',\n",
       " 'https://naturalbylila.com/vestido-asimetrico-metalizado/',\n",
       " 'https://naturalbylila.com/vestido-corse-terciopelo/',\n",
       " 'https://naturalbylila.com/vestido-lurex-arandela/',\n",
       " 'https://naturalbylila.com/vestido-mini-lurex/',\n",
       " 'https://naturalbylila.com/vestido-strass-espalda-cruzada/',\n",
       " 'https://naturalbylila.com/vestido-corto-corse-raso/',\n",
       " 'https://naturalbylila.com/vestido-tul-mia/',\n",
       " 'https://naturalbylila.com/vestido-mini-halter-lurex/',\n",
       " 'https://naturalbylila.com/vestido-sandy-raso/',\n",
       " 'https://naturalbylila.com/vestido-cut-out-lentejuelas/',\n",
       " 'https://naturalbylila.com/vestido-marilyn-lurex/',\n",
       " 'https://naturalbylila.com/vestido-mini-elastico/']"
      ]
     },
     "execution_count": 31,
     "metadata": {},
     "output_type": "execute_result"
    }
   ],
   "source": [
    "lista_links"
   ]
  },
  {
   "cell_type": "code",
   "execution_count": 28,
   "metadata": {},
   "outputs": [
    {
     "data": {
      "text/plain": [
       "'https://naturalbylila.com/vestido-brigitte-lentejuelas/'"
      ]
     },
     "execution_count": 28,
     "metadata": {},
     "output_type": "execute_result"
    }
   ],
   "source": [
    "productos[3].get_attribute(\"href\")"
   ]
  },
  {
   "cell_type": "code",
   "execution_count": 17,
   "metadata": {},
   "outputs": [
    {
     "data": {
      "text/plain": [
       "'https://naturalbylila.com/mini-vestido-strapless-cascada/'"
      ]
     },
     "execution_count": 17,
     "metadata": {},
     "output_type": "execute_result"
    }
   ],
   "source": [
    "links.get_attribute(\"href\")"
   ]
  },
  {
   "cell_type": "code",
   "execution_count": 29,
   "metadata": {},
   "outputs": [
    {
     "data": {
      "text/plain": [
       "43"
      ]
     },
     "execution_count": 29,
     "metadata": {},
     "output_type": "execute_result"
    }
   ],
   "source": [
    "len(productos)"
   ]
  },
  {
   "cell_type": "code",
   "execution_count": null,
   "metadata": {},
   "outputs": [],
   "source": []
  }
 ],
 "metadata": {
  "kernelspec": {
   "display_name": "Python 3",
   "language": "python",
   "name": "python3"
  },
  "language_info": {
   "codemirror_mode": {
    "name": "ipython",
    "version": 3
   },
   "file_extension": ".py",
   "mimetype": "text/x-python",
   "name": "python",
   "nbconvert_exporter": "python",
   "pygments_lexer": "ipython3",
   "version": "3.11.9"
  }
 },
 "nbformat": 4,
 "nbformat_minor": 2
}
