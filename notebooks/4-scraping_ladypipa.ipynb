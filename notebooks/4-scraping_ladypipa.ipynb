{
 "cells": [
  {
   "cell_type": "markdown",
   "metadata": {},
   "source": [
    "# Scraping de Lapypipa"
   ]
  },
  {
   "cell_type": "markdown",
   "metadata": {},
   "source": [
    "Nuestro objetivo consiste en escrapear la pagina de vestidos de Ladypipa para ello usaremos tanto Selenium como Beautiful Soup."
   ]
  },
  {
   "cell_type": "code",
   "execution_count": 1,
   "metadata": {},
   "outputs": [],
   "source": [
    "import sys\n",
    "import os\n",
    "import pandas as pd\n",
    "import json\n",
    "\n",
    "sys.path.append(os.path.abspath('../'))\n",
    "from src import funciones_scraping as fs"
   ]
  },
  {
   "cell_type": "markdown",
   "metadata": {},
   "source": [
    "Con Selenium accedemos a la página principal de vestidos y sacamos todos los links a los que posterioirmente vamos a acceder. Estos links los almacenamos dentro de la carpeta datos para tenerlos guardados y solo tener que ejecutar una vez la función."
   ]
  },
  {
   "cell_type": "code",
   "execution_count": 6,
   "metadata": {},
   "outputs": [],
   "source": [
    "links_ladypipa = fs.obtencion_links_ladypipa()\n",
    "\n",
    "with open(\"../datos/scraping/links_ladypipa.json\", \"w\") as archivo_json:\n",
    "    json.dump(links_ladypipa, archivo_json)"
   ]
  },
  {
   "cell_type": "markdown",
   "metadata": {},
   "source": [
    "A continuación mediande BeautifulSoup iremos recabando de cada vestido la información necesaria para crear el dataframe."
   ]
  },
  {
   "cell_type": "code",
   "execution_count": 2,
   "metadata": {},
   "outputs": [],
   "source": [
    "with open(\"../datos/scraping/links_ladypipa.json\", \"r\") as archivo_json:\n",
    "    links_ladypipa = json.load(archivo_json)"
   ]
  },
  {
   "cell_type": "code",
   "execution_count": 3,
   "metadata": {},
   "outputs": [],
   "source": [
    "dic_vestido = fs.extraccion_info_ladypipa(links_ladypipa)"
   ]
  },
  {
   "cell_type": "code",
   "execution_count": 5,
   "metadata": {},
   "outputs": [],
   "source": [
    "df_lady_pipa = pd.DataFrame(dic_vestido)\n",
    "df_lady_pipa.drop_duplicates(inplace=True)"
   ]
  },
  {
   "cell_type": "markdown",
   "metadata": {},
   "source": [
    "Una vez hemos comprobado que todos los campos son correctos la almacenamos."
   ]
  },
  {
   "cell_type": "code",
   "execution_count": 6,
   "metadata": {},
   "outputs": [],
   "source": [
    "df_lady_pipa.to_csv(\"../datos/dataframes/df_ladypipa.csv\")"
   ]
  },
  {
   "cell_type": "code",
   "execution_count": 7,
   "metadata": {},
   "outputs": [
    {
     "data": {
      "text/html": [
       "<div>\n",
       "<style scoped>\n",
       "    .dataframe tbody tr th:only-of-type {\n",
       "        vertical-align: middle;\n",
       "    }\n",
       "\n",
       "    .dataframe tbody tr th {\n",
       "        vertical-align: top;\n",
       "    }\n",
       "\n",
       "    .dataframe thead th {\n",
       "        text-align: right;\n",
       "    }\n",
       "</style>\n",
       "<table border=\"1\" class=\"dataframe\">\n",
       "  <thead>\n",
       "    <tr style=\"text-align: right;\">\n",
       "      <th></th>\n",
       "      <th>nombre</th>\n",
       "      <th>marca</th>\n",
       "      <th>precio</th>\n",
       "      <th>color</th>\n",
       "      <th>talla</th>\n",
       "      <th>categoria</th>\n",
       "    </tr>\n",
       "  </thead>\n",
       "  <tbody>\n",
       "    <tr>\n",
       "      <th>0</th>\n",
       "      <td>Vestido Salima</td>\n",
       "      <td>Ladypipa</td>\n",
       "      <td>129,95</td>\n",
       "      <td>Nenúfar caldera</td>\n",
       "      <td>XXS</td>\n",
       "      <td>midi</td>\n",
       "    </tr>\n",
       "    <tr>\n",
       "      <th>1</th>\n",
       "      <td>Vestido Salima</td>\n",
       "      <td>Ladypipa</td>\n",
       "      <td>129,95</td>\n",
       "      <td>Nenúfar caldera</td>\n",
       "      <td>XS</td>\n",
       "      <td>midi</td>\n",
       "    </tr>\n",
       "    <tr>\n",
       "      <th>2</th>\n",
       "      <td>Vestido Salima</td>\n",
       "      <td>Ladypipa</td>\n",
       "      <td>129,95</td>\n",
       "      <td>Nenúfar caldera</td>\n",
       "      <td>S</td>\n",
       "      <td>midi</td>\n",
       "    </tr>\n",
       "  </tbody>\n",
       "</table>\n",
       "</div>"
      ],
      "text/plain": [
       "           nombre     marca  precio            color talla categoria\n",
       "0  Vestido Salima  Ladypipa  129,95  Nenúfar caldera   XXS      midi\n",
       "1  Vestido Salima  Ladypipa  129,95  Nenúfar caldera    XS      midi\n",
       "2  Vestido Salima  Ladypipa  129,95  Nenúfar caldera     S      midi"
      ]
     },
     "execution_count": 7,
     "metadata": {},
     "output_type": "execute_result"
    }
   ],
   "source": [
    "df_lady_pipa.head(3)"
   ]
  },
  {
   "cell_type": "code",
   "execution_count": 4,
   "metadata": {},
   "outputs": [],
   "source": [
    "df_lady_pipa = pd.read_csv(\"../datos/dataframes/df_ladypipa.csv\")"
   ]
  }
 ],
 "metadata": {
  "kernelspec": {
   "display_name": "Python 3",
   "language": "python",
   "name": "python3"
  },
  "language_info": {
   "codemirror_mode": {
    "name": "ipython",
    "version": 3
   },
   "file_extension": ".py",
   "mimetype": "text/x-python",
   "name": "python",
   "nbconvert_exporter": "python",
   "pygments_lexer": "ipython3",
   "version": "3.11.9"
  }
 },
 "nbformat": 4,
 "nbformat_minor": 2
}
